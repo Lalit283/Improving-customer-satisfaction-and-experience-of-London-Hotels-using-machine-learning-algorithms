{
 "cells": [
  {
   "cell_type": "markdown",
   "metadata": {},
   "source": [
    "# What is NLP?\n",
    "Working in Data Science and having a background in Technical Writing, I was drawn to the field of Natural Language Processing (NLP). Machines understanding language fascinates me, and I often ponder which algorithms Aristotle would have used to build a rhetorical analysis machine if he had the chance. If you’re new to Data Science, getting into NLP can seem complicated, especially since there have been so many recent advancements in the field. It is hard to know where to start."
   ]
  },
  {
   "cell_type": "markdown",
   "metadata": {},
   "source": [
    "# The Projects and the Data\n",
    "These Reviews of London-based hotels restorenet projects will give you an introduction to concepts and techniques used in Natural Language Processing."
   ]
  },
  {
   "cell_type": "markdown",
   "metadata": {},
   "source": [
    "## Overall problem\n",
    "In this competitive world every individual business wanted to stand out from others. The hotel industry in London is also trying to improve customer satisfaction and experience using machine learning algorithms. London is well known place for tourism in the world so we can understand dependency of economy on tourism of London. London hotels play a major role in tourism because most of tourists stay in hotels. Many tourists give a negative review which needs to be focused on but cannot be done appropriately. Because of this problem, many tourists avoid staying in specific hotel and sometimes they don’t like to visit London again due to bad experience of hotels which will impact on economy indirectly or directly\n",
    "\n",
    "## Project aim and objective\n",
    "As per knowledge, Manager/Owner of the hotels can’t exactly focus on specific improvements area from the comments given by various customer without analyze the data. And ant to Improve customer satisfaction and experience of London Hotels using machine learning algorithms Understand requirements of customers\n",
    "\n",
    "• What are major comment subjects?\n",
    "\n",
    "• What facilities need to be focused?\n",
    "\n",
    "• What are target regions?"
   ]
  },
  {
   "cell_type": "markdown",
   "metadata": {
    "colab_type": "text",
    "id": "VwK5-9FIB-lu"
   },
   "source": [
    "## Natural Language Processing"
   ]
  },
  {
   "cell_type": "markdown",
   "metadata": {
    "colab_type": "text",
    "id": "X1kiO9kACE6s"
   },
   "source": [
    "### Importing the libraries"
   ]
  },
  {
   "cell_type": "code",
   "execution_count": 1,
   "metadata": {
    "colab": {},
    "colab_type": "code",
    "id": "7QG7sxmoCIvN"
   },
   "outputs": [],
   "source": [
    "import numpy as np\n",
    "import matplotlib.pyplot as plt\n",
    "import pandas as pd\n",
    "import re\n",
    "from nltk.corpus import stopwords"
   ]
  },
  {
   "cell_type": "markdown",
   "metadata": {
    "colab_type": "text",
    "id": "wTfaCIzdCLPA"
   },
   "source": [
    "### Importing the dataset"
   ]
  },
  {
   "cell_type": "code",
   "execution_count": 2,
   "metadata": {
    "colab": {},
    "colab_type": "code",
    "id": "UCK6vQ5QCQJe"
   },
   "outputs": [
    {
     "name": "stdout",
     "output_type": "stream",
     "text": [
      "(27330, 6)\n"
     ]
    },
    {
     "data": {
      "text/html": [
       "<div>\n",
       "<style scoped>\n",
       "    .dataframe tbody tr th:only-of-type {\n",
       "        vertical-align: middle;\n",
       "    }\n",
       "\n",
       "    .dataframe tbody tr th {\n",
       "        vertical-align: top;\n",
       "    }\n",
       "\n",
       "    .dataframe thead th {\n",
       "        text-align: right;\n",
       "    }\n",
       "</style>\n",
       "<table border=\"1\" class=\"dataframe\">\n",
       "  <thead>\n",
       "    <tr style=\"text-align: right;\">\n",
       "      <th></th>\n",
       "      <th>Property_Name</th>\n",
       "      <th>Review_Rating</th>\n",
       "      <th>Review_Title</th>\n",
       "      <th>Review_Text</th>\n",
       "      <th>Location_Of_The_Reviewer</th>\n",
       "      <th>Date_Of_Review</th>\n",
       "    </tr>\n",
       "  </thead>\n",
       "  <tbody>\n",
       "    <tr>\n",
       "      <th>0</th>\n",
       "      <td>Apex London Wall Hotel</td>\n",
       "      <td>5</td>\n",
       "      <td>Ottima qualità prezzo</td>\n",
       "      <td>Siamo stati a Londra per un week end ed abbiam...</td>\n",
       "      <td>Casale Monferrato, Italy</td>\n",
       "      <td>10/20/2012</td>\n",
       "    </tr>\n",
       "    <tr>\n",
       "      <th>1</th>\n",
       "      <td>Corinthia Hotel London</td>\n",
       "      <td>5</td>\n",
       "      <td>By far, my best hotel in the world</td>\n",
       "      <td>I had a pleasure of staying in this hotel for ...</td>\n",
       "      <td>Savannah, Georgia</td>\n",
       "      <td>3/23/2016</td>\n",
       "    </tr>\n",
       "    <tr>\n",
       "      <th>2</th>\n",
       "      <td>The Savoy</td>\n",
       "      <td>5</td>\n",
       "      <td>First visit to the American Bar at the Savoy</td>\n",
       "      <td>A very lovely first visit to this iconic hotel...</td>\n",
       "      <td>London</td>\n",
       "      <td>7/30/2013</td>\n",
       "    </tr>\n",
       "    <tr>\n",
       "      <th>3</th>\n",
       "      <td>Rhodes Hotel</td>\n",
       "      <td>4</td>\n",
       "      <td>Nice stay</td>\n",
       "      <td>3 of us stayed at the Rhodes Hotel for 4 night...</td>\n",
       "      <td>Maui, Hawaii</td>\n",
       "      <td>06-02-2012</td>\n",
       "    </tr>\n",
       "    <tr>\n",
       "      <th>4</th>\n",
       "      <td>The Savoy</td>\n",
       "      <td>5</td>\n",
       "      <td>Perfection</td>\n",
       "      <td>Form the moment we arrived until we left we ex...</td>\n",
       "      <td>London, United Kingdom</td>\n",
       "      <td>11/24/2017</td>\n",
       "    </tr>\n",
       "  </tbody>\n",
       "</table>\n",
       "</div>"
      ],
      "text/plain": [
       "            Property_Name  Review_Rating  \\\n",
       "0  Apex London Wall Hotel              5   \n",
       "1  Corinthia Hotel London              5   \n",
       "2               The Savoy              5   \n",
       "3            Rhodes Hotel              4   \n",
       "4               The Savoy              5   \n",
       "\n",
       "                                   Review_Title  \\\n",
       "0                         Ottima qualità prezzo   \n",
       "1            By far, my best hotel in the world   \n",
       "2  First visit to the American Bar at the Savoy   \n",
       "3                                     Nice stay   \n",
       "4                                    Perfection   \n",
       "\n",
       "                                         Review_Text  \\\n",
       "0  Siamo stati a Londra per un week end ed abbiam...   \n",
       "1  I had a pleasure of staying in this hotel for ...   \n",
       "2  A very lovely first visit to this iconic hotel...   \n",
       "3  3 of us stayed at the Rhodes Hotel for 4 night...   \n",
       "4  Form the moment we arrived until we left we ex...   \n",
       "\n",
       "   Location_Of_The_Reviewer Date_Of_Review  \n",
       "0  Casale Monferrato, Italy     10/20/2012  \n",
       "1         Savannah, Georgia      3/23/2016  \n",
       "2                    London      7/30/2013  \n",
       "3              Maui, Hawaii     06-02-2012  \n",
       "4    London, United Kingdom     11/24/2017  "
      ]
     },
     "execution_count": 2,
     "metadata": {},
     "output_type": "execute_result"
    }
   ],
   "source": [
    "df = pd.read_csv('London_hotel_reviews.csv', encoding = \"ISO-8859-1\")\n",
    "print(df.shape)\n",
    "df.head()"
   ]
  },
  {
   "cell_type": "code",
   "execution_count": 3,
   "metadata": {},
   "outputs": [
    {
     "name": "stdout",
     "output_type": "stream",
     "text": [
      "Property_Name                  0\n",
      "Review_Rating                  0\n",
      "Review_Title                   0\n",
      "Review_Text                    0\n",
      "Location_Of_The_Reviewer    3953\n",
      "Date_Of_Review                 1\n",
      "dtype: int64\n",
      "\n"
     ]
    },
    {
     "data": {
      "text/html": [
       "<div>\n",
       "<style scoped>\n",
       "    .dataframe tbody tr th:only-of-type {\n",
       "        vertical-align: middle;\n",
       "    }\n",
       "\n",
       "    .dataframe tbody tr th {\n",
       "        vertical-align: top;\n",
       "    }\n",
       "\n",
       "    .dataframe thead th {\n",
       "        text-align: right;\n",
       "    }\n",
       "</style>\n",
       "<table border=\"1\" class=\"dataframe\">\n",
       "  <thead>\n",
       "    <tr style=\"text-align: right;\">\n",
       "      <th></th>\n",
       "      <th>Property_Name</th>\n",
       "      <th>Review_Rating</th>\n",
       "      <th>Review_Title</th>\n",
       "      <th>Review_Text</th>\n",
       "      <th>Location_Of_The_Reviewer</th>\n",
       "      <th>Date_Of_Review</th>\n",
       "    </tr>\n",
       "  </thead>\n",
       "  <tbody>\n",
       "    <tr>\n",
       "      <th>5</th>\n",
       "      <td>Corinthia Hotel London</td>\n",
       "      <td>1</td>\n",
       "      <td>Staff stole from me!!</td>\n",
       "      <td>Well I am no strange to London's 5star hotels ...</td>\n",
       "      <td>NaN</td>\n",
       "      <td>03-01-2013</td>\n",
       "    </tr>\n",
       "    <tr>\n",
       "      <th>24</th>\n",
       "      <td>Mondrian London at Sea Containers</td>\n",
       "      <td>5</td>\n",
       "      <td>Fantastic nights stay, one of the best hotels ...</td>\n",
       "      <td>My partner and I found this hotel by chance an...</td>\n",
       "      <td>NaN</td>\n",
       "      <td>6/20/2015</td>\n",
       "    </tr>\n",
       "    <tr>\n",
       "      <th>34</th>\n",
       "      <td>Mondrian London at Sea Containers</td>\n",
       "      <td>5</td>\n",
       "      <td>Just as good second time around!</td>\n",
       "      <td>After an amazing experience the first time we ...</td>\n",
       "      <td>NaN</td>\n",
       "      <td>10/15/2015</td>\n",
       "    </tr>\n",
       "    <tr>\n",
       "      <th>37</th>\n",
       "      <td>The Rembrandt</td>\n",
       "      <td>5</td>\n",
       "      <td>Good Hotel - Great Area</td>\n",
       "      <td>Very good hotel in a lovely area. Handy to the...</td>\n",
       "      <td>NaN</td>\n",
       "      <td>11-04-2016</td>\n",
       "    </tr>\n",
       "    <tr>\n",
       "      <th>45</th>\n",
       "      <td>Apex London Wall Hotel</td>\n",
       "      <td>4</td>\n",
       "      <td>Eccellente</td>\n",
       "      <td>In tutto, dalla struttura nuova in stile moder...</td>\n",
       "      <td>NaN</td>\n",
       "      <td>4/30/2013</td>\n",
       "    </tr>\n",
       "  </tbody>\n",
       "</table>\n",
       "</div>"
      ],
      "text/plain": [
       "                        Property_Name  Review_Rating  \\\n",
       "5              Corinthia Hotel London              1   \n",
       "24  Mondrian London at Sea Containers              5   \n",
       "34  Mondrian London at Sea Containers              5   \n",
       "37                      The Rembrandt              5   \n",
       "45             Apex London Wall Hotel              4   \n",
       "\n",
       "                                         Review_Title  \\\n",
       "5                               Staff stole from me!!   \n",
       "24  Fantastic nights stay, one of the best hotels ...   \n",
       "34                   Just as good second time around!   \n",
       "37                            Good Hotel - Great Area   \n",
       "45                                         Eccellente   \n",
       "\n",
       "                                          Review_Text  \\\n",
       "5   Well I am no strange to London's 5star hotels ...   \n",
       "24  My partner and I found this hotel by chance an...   \n",
       "34  After an amazing experience the first time we ...   \n",
       "37  Very good hotel in a lovely area. Handy to the...   \n",
       "45  In tutto, dalla struttura nuova in stile moder...   \n",
       "\n",
       "   Location_Of_The_Reviewer Date_Of_Review  \n",
       "5                       NaN     03-01-2013  \n",
       "24                      NaN      6/20/2015  \n",
       "34                      NaN     10/15/2015  \n",
       "37                      NaN     11-04-2016  \n",
       "45                      NaN      4/30/2013  "
      ]
     },
     "execution_count": 3,
     "metadata": {},
     "output_type": "execute_result"
    }
   ],
   "source": [
    "print(df.isna().sum(), end = '\\n\\n')\n",
    "df[df.isnull().any(axis=1)].head()"
   ]
  },
  {
   "cell_type": "code",
   "execution_count": 4,
   "metadata": {},
   "outputs": [
    {
     "data": {
      "text/html": [
       "<div>\n",
       "<style scoped>\n",
       "    .dataframe tbody tr th:only-of-type {\n",
       "        vertical-align: middle;\n",
       "    }\n",
       "\n",
       "    .dataframe tbody tr th {\n",
       "        vertical-align: top;\n",
       "    }\n",
       "\n",
       "    .dataframe thead th {\n",
       "        text-align: right;\n",
       "    }\n",
       "</style>\n",
       "<table border=\"1\" class=\"dataframe\">\n",
       "  <thead>\n",
       "    <tr style=\"text-align: right;\">\n",
       "      <th></th>\n",
       "      <th>Property_Name</th>\n",
       "      <th>Review_Rating</th>\n",
       "      <th>Review_Title</th>\n",
       "      <th>Review_Text</th>\n",
       "      <th>Location_Of_The_Reviewer</th>\n",
       "      <th>Date_Of_Review</th>\n",
       "    </tr>\n",
       "  </thead>\n",
       "  <tbody>\n",
       "    <tr>\n",
       "      <th>6556</th>\n",
       "      <td>The Lanesborough</td>\n",
       "      <td>4</td>\n",
       "      <td>&lt;U+0412&gt; &lt;U+043F&gt;&lt;U+043E&gt;&lt;U+0434&gt;&lt;U+0440&gt;&lt;U+04...</td>\n",
       "      <td>&lt;U+041E&gt;&lt;U+0442&gt;&lt;U+0435&gt;&lt;U+043B&gt;&lt;U+044C&gt; : | &lt;...</td>\n",
       "      <td>NaN</td>\n",
       "      <td>NaN</td>\n",
       "    </tr>\n",
       "  </tbody>\n",
       "</table>\n",
       "</div>"
      ],
      "text/plain": [
       "         Property_Name  Review_Rating  \\\n",
       "6556  The Lanesborough              4   \n",
       "\n",
       "                                           Review_Title  \\\n",
       "6556  <U+0412> <U+043F><U+043E><U+0434><U+0440><U+04...   \n",
       "\n",
       "                                            Review_Text  \\\n",
       "6556  <U+041E><U+0442><U+0435><U+043B><U+044C> : | <...   \n",
       "\n",
       "     Location_Of_The_Reviewer Date_Of_Review  \n",
       "6556                      NaN            NaN  "
      ]
     },
     "execution_count": 4,
     "metadata": {},
     "output_type": "execute_result"
    }
   ],
   "source": [
    "df[df[\"Date_Of_Review\"].isnull()]"
   ]
  },
  {
   "cell_type": "code",
   "execution_count": 5,
   "metadata": {},
   "outputs": [
    {
     "name": "stdout",
     "output_type": "stream",
     "text": [
      "431 reviews that are probably gibberish.\n"
     ]
    },
    {
     "data": {
      "text/html": [
       "<div>\n",
       "<style scoped>\n",
       "    .dataframe tbody tr th:only-of-type {\n",
       "        vertical-align: middle;\n",
       "    }\n",
       "\n",
       "    .dataframe tbody tr th {\n",
       "        vertical-align: top;\n",
       "    }\n",
       "\n",
       "    .dataframe thead th {\n",
       "        text-align: right;\n",
       "    }\n",
       "</style>\n",
       "<table border=\"1\" class=\"dataframe\">\n",
       "  <thead>\n",
       "    <tr style=\"text-align: right;\">\n",
       "      <th></th>\n",
       "      <th>Property_Name</th>\n",
       "      <th>Review_Rating</th>\n",
       "      <th>Review_Title</th>\n",
       "      <th>Review_Text</th>\n",
       "      <th>Location_Of_The_Reviewer</th>\n",
       "      <th>Date_Of_Review</th>\n",
       "    </tr>\n",
       "  </thead>\n",
       "  <tbody>\n",
       "    <tr>\n",
       "      <th>90</th>\n",
       "      <td>The Dorchester</td>\n",
       "      <td>5</td>\n",
       "      <td>&lt;U+0391&gt;&lt;U+03B3&gt;&lt;U+03B3&gt;&lt;U+03BB&gt;&lt;U+03B9&gt;&lt;U+03B...</td>\n",
       "      <td>e&lt;U+03B9&gt;&lt;U+03BD&gt;a&lt;U+03B9&gt; e&lt;U+03BD&gt;a&lt;U+03C2&gt; ...</td>\n",
       "      <td>Athens, Greece</td>\n",
       "      <td>7/18/2017</td>\n",
       "    </tr>\n",
       "    <tr>\n",
       "      <th>174</th>\n",
       "      <td>Corinthia Hotel London</td>\n",
       "      <td>5</td>\n",
       "      <td>&lt;U+041B&gt;&lt;U+0443&gt;&lt;U+0447&gt;&lt;U+0448&gt;&lt;U+0438&gt;&lt;U+043...</td>\n",
       "      <td>&lt;U+0423&gt;&lt;U+0440&gt;&lt;U+043E&gt;&lt;U+0432&gt;&lt;U+0435&gt;&lt;U+043...</td>\n",
       "      <td>Zurich</td>\n",
       "      <td>2/17/2016</td>\n",
       "    </tr>\n",
       "    <tr>\n",
       "      <th>178</th>\n",
       "      <td>Mandarin Oriental Hyde Park, London</td>\n",
       "      <td>5</td>\n",
       "      <td>&lt;U+512A&gt;&lt;U+96C5&gt;&lt;U+306A&gt;&lt;U+6642&gt;&lt;U+9593&gt;&lt;U+304...</td>\n",
       "      <td>&lt;U+5148&gt;&lt;U+6708&gt;&lt;U+3001&gt;&lt;U+304A&gt;&lt;U+98DF&gt;&lt;U+4E8...</td>\n",
       "      <td>Aichi Prefecture, Japan</td>\n",
       "      <td>11/20/2015</td>\n",
       "    </tr>\n",
       "    <tr>\n",
       "      <th>328</th>\n",
       "      <td>The Savoy</td>\n",
       "      <td>5</td>\n",
       "      <td>&lt;U+C544&gt;&lt;U+B984&gt;&lt;U+B2F5&gt;&lt;U+ACE0&gt; &lt;U+C6B0&gt;&lt;U+C5...</td>\n",
       "      <td>&lt;U+CE5C&gt;&lt;U+C808&gt;&lt;U+D558&gt;&lt;U+ACE0&gt; &lt;U+C720&gt;&lt;U+CF...</td>\n",
       "      <td>NaN</td>\n",
       "      <td>5/15/2017</td>\n",
       "    </tr>\n",
       "    <tr>\n",
       "      <th>364</th>\n",
       "      <td>45 Park Lane - Dorchester Collection</td>\n",
       "      <td>5</td>\n",
       "      <td>&lt;U+041C&gt;&lt;U+043E&gt;&lt;U+0434&gt;&lt;U+043D&gt;&lt;U+044B&gt;&lt;U+043...</td>\n",
       "      <td>&lt;U+041E&gt;&lt;U+0442&gt;&lt;U+0435&gt;&lt;U+043B&gt;&lt;U+044C&gt; &lt;U+04...</td>\n",
       "      <td>Moscow, Russia</td>\n",
       "      <td>09-01-2015</td>\n",
       "    </tr>\n",
       "  </tbody>\n",
       "</table>\n",
       "</div>"
      ],
      "text/plain": [
       "                            Property_Name  Review_Rating  \\\n",
       "90                         The Dorchester              5   \n",
       "174                Corinthia Hotel London              5   \n",
       "178   Mandarin Oriental Hyde Park, London              5   \n",
       "328                             The Savoy              5   \n",
       "364  45 Park Lane - Dorchester Collection              5   \n",
       "\n",
       "                                          Review_Title  \\\n",
       "90   <U+0391><U+03B3><U+03B3><U+03BB><U+03B9><U+03B...   \n",
       "174  <U+041B><U+0443><U+0447><U+0448><U+0438><U+043...   \n",
       "178  <U+512A><U+96C5><U+306A><U+6642><U+9593><U+304...   \n",
       "328  <U+C544><U+B984><U+B2F5><U+ACE0> <U+C6B0><U+C5...   \n",
       "364  <U+041C><U+043E><U+0434><U+043D><U+044B><U+043...   \n",
       "\n",
       "                                           Review_Text  \\\n",
       "90   e<U+03B9><U+03BD>a<U+03B9> e<U+03BD>a<U+03C2> ...   \n",
       "174  <U+0423><U+0440><U+043E><U+0432><U+0435><U+043...   \n",
       "178  <U+5148><U+6708><U+3001><U+304A><U+98DF><U+4E8...   \n",
       "328  <U+CE5C><U+C808><U+D558><U+ACE0> <U+C720><U+CF...   \n",
       "364  <U+041E><U+0442><U+0435><U+043B><U+044C> <U+04...   \n",
       "\n",
       "    Location_Of_The_Reviewer Date_Of_Review  \n",
       "90            Athens, Greece      7/18/2017  \n",
       "174                   Zurich      2/17/2016  \n",
       "178  Aichi Prefecture, Japan     11/20/2015  \n",
       "328                      NaN      5/15/2017  \n",
       "364           Moscow, Russia     09-01-2015  "
      ]
     },
     "execution_count": 5,
     "metadata": {},
     "output_type": "execute_result"
    }
   ],
   "source": [
    "print(len(df[df['Review_Title'].str.contains(\"<U\")]), 'reviews that are probably gibberish.')\n",
    "df[df['Review_Title'].str.contains(\"<U\")].head()"
   ]
  },
  {
   "cell_type": "code",
   "execution_count": 6,
   "metadata": {},
   "outputs": [],
   "source": [
    "df = df[df['Review_Title'].str.contains(\"<U\") == False]"
   ]
  },
  {
   "cell_type": "code",
   "execution_count": 7,
   "metadata": {},
   "outputs": [
    {
     "name": "stdout",
     "output_type": "stream",
     "text": [
      "(26899, 6)\n"
     ]
    },
    {
     "data": {
      "text/html": [
       "<div>\n",
       "<style scoped>\n",
       "    .dataframe tbody tr th:only-of-type {\n",
       "        vertical-align: middle;\n",
       "    }\n",
       "\n",
       "    .dataframe tbody tr th {\n",
       "        vertical-align: top;\n",
       "    }\n",
       "\n",
       "    .dataframe thead th {\n",
       "        text-align: right;\n",
       "    }\n",
       "</style>\n",
       "<table border=\"1\" class=\"dataframe\">\n",
       "  <thead>\n",
       "    <tr style=\"text-align: right;\">\n",
       "      <th></th>\n",
       "      <th>Property_Name</th>\n",
       "      <th>Review_Rating</th>\n",
       "      <th>Review_Title</th>\n",
       "      <th>Review_Text</th>\n",
       "      <th>Location_Of_The_Reviewer</th>\n",
       "      <th>Date_Of_Review</th>\n",
       "    </tr>\n",
       "  </thead>\n",
       "  <tbody>\n",
       "    <tr>\n",
       "      <th>0</th>\n",
       "      <td>Apex London Wall Hotel</td>\n",
       "      <td>5</td>\n",
       "      <td>Ottima qualità prezzo</td>\n",
       "      <td>Siamo stati a Londra per un week end ed abbiam...</td>\n",
       "      <td>Casale Monferrato, Italy</td>\n",
       "      <td>10/20/2012</td>\n",
       "    </tr>\n",
       "    <tr>\n",
       "      <th>1</th>\n",
       "      <td>Corinthia Hotel London</td>\n",
       "      <td>5</td>\n",
       "      <td>By far, my best hotel in the world</td>\n",
       "      <td>I had a pleasure of staying in this hotel for ...</td>\n",
       "      <td>Savannah, Georgia</td>\n",
       "      <td>3/23/2016</td>\n",
       "    </tr>\n",
       "    <tr>\n",
       "      <th>2</th>\n",
       "      <td>The Savoy</td>\n",
       "      <td>5</td>\n",
       "      <td>First visit to the American Bar at the Savoy</td>\n",
       "      <td>A very lovely first visit to this iconic hotel...</td>\n",
       "      <td>London</td>\n",
       "      <td>7/30/2013</td>\n",
       "    </tr>\n",
       "    <tr>\n",
       "      <th>3</th>\n",
       "      <td>Rhodes Hotel</td>\n",
       "      <td>4</td>\n",
       "      <td>Nice stay</td>\n",
       "      <td>3 of us stayed at the Rhodes Hotel for 4 night...</td>\n",
       "      <td>Maui, Hawaii</td>\n",
       "      <td>06-02-2012</td>\n",
       "    </tr>\n",
       "    <tr>\n",
       "      <th>4</th>\n",
       "      <td>The Savoy</td>\n",
       "      <td>5</td>\n",
       "      <td>Perfection</td>\n",
       "      <td>Form the moment we arrived until we left we ex...</td>\n",
       "      <td>London, United Kingdom</td>\n",
       "      <td>11/24/2017</td>\n",
       "    </tr>\n",
       "  </tbody>\n",
       "</table>\n",
       "</div>"
      ],
      "text/plain": [
       "            Property_Name  Review_Rating  \\\n",
       "0  Apex London Wall Hotel              5   \n",
       "1  Corinthia Hotel London              5   \n",
       "2               The Savoy              5   \n",
       "3            Rhodes Hotel              4   \n",
       "4               The Savoy              5   \n",
       "\n",
       "                                   Review_Title  \\\n",
       "0                         Ottima qualità prezzo   \n",
       "1            By far, my best hotel in the world   \n",
       "2  First visit to the American Bar at the Savoy   \n",
       "3                                     Nice stay   \n",
       "4                                    Perfection   \n",
       "\n",
       "                                         Review_Text  \\\n",
       "0  Siamo stati a Londra per un week end ed abbiam...   \n",
       "1  I had a pleasure of staying in this hotel for ...   \n",
       "2  A very lovely first visit to this iconic hotel...   \n",
       "3  3 of us stayed at the Rhodes Hotel for 4 night...   \n",
       "4  Form the moment we arrived until we left we ex...   \n",
       "\n",
       "   Location_Of_The_Reviewer Date_Of_Review  \n",
       "0  Casale Monferrato, Italy     10/20/2012  \n",
       "1         Savannah, Georgia      3/23/2016  \n",
       "2                    London      7/30/2013  \n",
       "3              Maui, Hawaii     06-02-2012  \n",
       "4    London, United Kingdom     11/24/2017  "
      ]
     },
     "execution_count": 7,
     "metadata": {},
     "output_type": "execute_result"
    }
   ],
   "source": [
    "print(df.shape)\n",
    "df.head()"
   ]
  },
  {
   "cell_type": "code",
   "execution_count": 8,
   "metadata": {},
   "outputs": [
    {
     "name": "stdout",
     "output_type": "stream",
     "text": [
      "67.1251719394773 percent of reviews are bad (less than 5 star).\n"
     ]
    }
   ],
   "source": [
    "df['Complete_Review'] = df['Review_Title'] + ' ' + df['Review_Text']\n",
    "df.loc[df['Review_Rating'] > 4, 'Good_Review'] = 1\n",
    "df.loc[df['Review_Rating'] <= 4, 'Good_Review'] = 0\n",
    "print(sum(df['Good_Review'] == 1) / len(df['Good_Review']) * 100, 'percent of reviews are bad (less than 5 star).')"
   ]
  },
  {
   "cell_type": "code",
   "execution_count": 9,
   "metadata": {},
   "outputs": [
    {
     "name": "stdout",
     "output_type": "stream",
     "text": [
      "Property_Name                  0\n",
      "Review_Rating                  0\n",
      "Review_Title                   0\n",
      "Review_Text                    0\n",
      "Location_Of_The_Reviewer    3839\n",
      "Date_Of_Review                 0\n",
      "Complete_Review                0\n",
      "Good_Review                    0\n",
      "dtype: int64\n",
      "\n"
     ]
    },
    {
     "data": {
      "text/html": [
       "<div>\n",
       "<style scoped>\n",
       "    .dataframe tbody tr th:only-of-type {\n",
       "        vertical-align: middle;\n",
       "    }\n",
       "\n",
       "    .dataframe tbody tr th {\n",
       "        vertical-align: top;\n",
       "    }\n",
       "\n",
       "    .dataframe thead th {\n",
       "        text-align: right;\n",
       "    }\n",
       "</style>\n",
       "<table border=\"1\" class=\"dataframe\">\n",
       "  <thead>\n",
       "    <tr style=\"text-align: right;\">\n",
       "      <th></th>\n",
       "      <th>Property_Name</th>\n",
       "      <th>Review_Rating</th>\n",
       "      <th>Review_Title</th>\n",
       "      <th>Review_Text</th>\n",
       "      <th>Location_Of_The_Reviewer</th>\n",
       "      <th>Date_Of_Review</th>\n",
       "      <th>Complete_Review</th>\n",
       "      <th>Good_Review</th>\n",
       "    </tr>\n",
       "  </thead>\n",
       "  <tbody>\n",
       "    <tr>\n",
       "      <th>5</th>\n",
       "      <td>Corinthia Hotel London</td>\n",
       "      <td>1</td>\n",
       "      <td>Staff stole from me!!</td>\n",
       "      <td>Well I am no strange to London's 5star hotels ...</td>\n",
       "      <td>NaN</td>\n",
       "      <td>03-01-2013</td>\n",
       "      <td>Staff stole from me!! Well I am no strange to ...</td>\n",
       "      <td>0.0</td>\n",
       "    </tr>\n",
       "    <tr>\n",
       "      <th>24</th>\n",
       "      <td>Mondrian London at Sea Containers</td>\n",
       "      <td>5</td>\n",
       "      <td>Fantastic nights stay, one of the best hotels ...</td>\n",
       "      <td>My partner and I found this hotel by chance an...</td>\n",
       "      <td>NaN</td>\n",
       "      <td>6/20/2015</td>\n",
       "      <td>Fantastic nights stay, one of the best hotels ...</td>\n",
       "      <td>1.0</td>\n",
       "    </tr>\n",
       "    <tr>\n",
       "      <th>34</th>\n",
       "      <td>Mondrian London at Sea Containers</td>\n",
       "      <td>5</td>\n",
       "      <td>Just as good second time around!</td>\n",
       "      <td>After an amazing experience the first time we ...</td>\n",
       "      <td>NaN</td>\n",
       "      <td>10/15/2015</td>\n",
       "      <td>Just as good second time around! After an amaz...</td>\n",
       "      <td>1.0</td>\n",
       "    </tr>\n",
       "    <tr>\n",
       "      <th>37</th>\n",
       "      <td>The Rembrandt</td>\n",
       "      <td>5</td>\n",
       "      <td>Good Hotel - Great Area</td>\n",
       "      <td>Very good hotel in a lovely area. Handy to the...</td>\n",
       "      <td>NaN</td>\n",
       "      <td>11-04-2016</td>\n",
       "      <td>Good Hotel - Great Area Very good hotel in a l...</td>\n",
       "      <td>1.0</td>\n",
       "    </tr>\n",
       "    <tr>\n",
       "      <th>45</th>\n",
       "      <td>Apex London Wall Hotel</td>\n",
       "      <td>4</td>\n",
       "      <td>Eccellente</td>\n",
       "      <td>In tutto, dalla struttura nuova in stile moder...</td>\n",
       "      <td>NaN</td>\n",
       "      <td>4/30/2013</td>\n",
       "      <td>Eccellente In tutto, dalla struttura nuova in ...</td>\n",
       "      <td>0.0</td>\n",
       "    </tr>\n",
       "  </tbody>\n",
       "</table>\n",
       "</div>"
      ],
      "text/plain": [
       "                        Property_Name  Review_Rating  \\\n",
       "5              Corinthia Hotel London              1   \n",
       "24  Mondrian London at Sea Containers              5   \n",
       "34  Mondrian London at Sea Containers              5   \n",
       "37                      The Rembrandt              5   \n",
       "45             Apex London Wall Hotel              4   \n",
       "\n",
       "                                         Review_Title  \\\n",
       "5                               Staff stole from me!!   \n",
       "24  Fantastic nights stay, one of the best hotels ...   \n",
       "34                   Just as good second time around!   \n",
       "37                            Good Hotel - Great Area   \n",
       "45                                         Eccellente   \n",
       "\n",
       "                                          Review_Text  \\\n",
       "5   Well I am no strange to London's 5star hotels ...   \n",
       "24  My partner and I found this hotel by chance an...   \n",
       "34  After an amazing experience the first time we ...   \n",
       "37  Very good hotel in a lovely area. Handy to the...   \n",
       "45  In tutto, dalla struttura nuova in stile moder...   \n",
       "\n",
       "   Location_Of_The_Reviewer Date_Of_Review  \\\n",
       "5                       NaN     03-01-2013   \n",
       "24                      NaN      6/20/2015   \n",
       "34                      NaN     10/15/2015   \n",
       "37                      NaN     11-04-2016   \n",
       "45                      NaN      4/30/2013   \n",
       "\n",
       "                                      Complete_Review  Good_Review  \n",
       "5   Staff stole from me!! Well I am no strange to ...          0.0  \n",
       "24  Fantastic nights stay, one of the best hotels ...          1.0  \n",
       "34  Just as good second time around! After an amaz...          1.0  \n",
       "37  Good Hotel - Great Area Very good hotel in a l...          1.0  \n",
       "45  Eccellente In tutto, dalla struttura nuova in ...          0.0  "
      ]
     },
     "execution_count": 9,
     "metadata": {},
     "output_type": "execute_result"
    }
   ],
   "source": [
    "print(df.isna().sum(), end = '\\n\\n')\n",
    "df[df.isnull().any(axis=1)].head()"
   ]
  },
  {
   "cell_type": "code",
   "execution_count": 10,
   "metadata": {},
   "outputs": [
    {
     "data": {
      "text/plain": [
       "(26899, 8)"
      ]
     },
     "execution_count": 10,
     "metadata": {},
     "output_type": "execute_result"
    }
   ],
   "source": [
    "df.shape"
   ]
  },
  {
   "cell_type": "markdown",
   "metadata": {
    "colab_type": "text",
    "id": "Qekztq71CixT"
   },
   "source": [
    "### Cleaning the texts"
   ]
  },
  {
   "cell_type": "code",
   "execution_count": 11,
   "metadata": {},
   "outputs": [],
   "source": [
    "features=df.iloc[:,6].values"
   ]
  },
  {
   "cell_type": "code",
   "execution_count": 12,
   "metadata": {},
   "outputs": [],
   "source": [
    "Processed_features = []\n",
    "for sentence in range(0,len(features)):\n",
    "    # Remove all the special characters \n",
    "    processed_feature = re.sub(r'\\W',' ',str(features[sentence]))\n",
    "    \n",
    "    # Remove all single characters\n",
    "    precessed_feature = re.sub(r'\\s+[a-zA-Z]\\s+', ' ',  processed_feature)\n",
    "    \n",
    "    # Remove single characters from the start\n",
    "    processed_feature = re.sub(r'\\^[a-zA-Z]\\s+', ' ',  processed_feature)\n",
    "    \n",
    "    # Substituting multiple spaces with single space\n",
    "    processed_feature = re.sub(r'\\s+', ' ',  processed_feature, flags=re.I)\n",
    "    \n",
    "    # Removing prefixed 'b'\n",
    "    processed_feature = re.sub(r'^b\\s+', '', processed_feature)\n",
    "    \n",
    "    # Converting to Lowercase\n",
    "    processed_feature = processed_feature.lower()\n",
    "    \n",
    "    Processed_features.append(processed_feature)"
   ]
  },
  {
   "cell_type": "markdown",
   "metadata": {
    "colab_type": "text",
    "id": "CLqmAkANCp1-"
   },
   "source": [
    "### Creating the Bag of Words model"
   ]
  },
  {
   "cell_type": "code",
   "execution_count": 13,
   "metadata": {},
   "outputs": [],
   "source": [
    "from sklearn.feature_extraction.text import CountVectorizer\n",
    "cv = CountVectorizer(max_features = 3000)\n",
    "X = cv.fit_transform(Processed_features).toarray()\n",
    "y = df.iloc[:, 7].values"
   ]
  },
  {
   "cell_type": "code",
   "execution_count": 14,
   "metadata": {},
   "outputs": [
    {
     "data": {
      "text/plain": [
       "26899"
      ]
     },
     "execution_count": 14,
     "metadata": {},
     "output_type": "execute_result"
    }
   ],
   "source": [
    "len(X)"
   ]
  },
  {
   "cell_type": "code",
   "execution_count": 15,
   "metadata": {},
   "outputs": [
    {
     "data": {
      "text/plain": [
       "26899"
      ]
     },
     "execution_count": 15,
     "metadata": {},
     "output_type": "execute_result"
    }
   ],
   "source": [
    "len(y)"
   ]
  },
  {
   "cell_type": "markdown",
   "metadata": {
    "colab_type": "text",
    "id": "DH_VjgPzC2cd"
   },
   "source": [
    "### Splitting the dataset into the Training set and Test set"
   ]
  },
  {
   "cell_type": "markdown",
   "metadata": {},
   "source": [
    "Next to make a train and test set, with 80% of the data being the train set and 20% being the test set. The model will be trained on the training data and evaluated on the test data."
   ]
  },
  {
   "cell_type": "code",
   "execution_count": 16,
   "metadata": {},
   "outputs": [],
   "source": [
    "from sklearn.model_selection import train_test_split\n",
    "\n",
    "X_train, X_test, y_train, y_test = train_test_split(X, y, test_size=0.2, random_state=0)"
   ]
  },
  {
   "cell_type": "markdown",
   "metadata": {
    "colab_type": "text",
    "id": "VkIq23vEDIPt"
   },
   "source": [
    "### Training the Naive Bayes model on the Training set"
   ]
  },
  {
   "cell_type": "code",
   "execution_count": 17,
   "metadata": {
    "colab": {
     "base_uri": "https://localhost:8080/",
     "height": 34
    },
    "colab_type": "code",
    "executionInfo": {
     "elapsed": 636,
     "status": "ok",
     "timestamp": 1586421527177,
     "user": {
      "displayName": "Hadelin de Ponteves",
      "photoUrl": "https://lh3.googleusercontent.com/a-/AOh14GhEuXdT7eQweUmRPW8_laJuPggSK6hfvpl5a6WBaA=s64",
      "userId": "15047218817161520419"
     },
     "user_tz": -240
    },
    "id": "DS9oiDXXDRdI",
    "outputId": "e4c2c831-e9dd-45f5-a23b-dd70f59cedfb"
   },
   "outputs": [
    {
     "data": {
      "text/plain": [
       "GaussianNB(priors=None, var_smoothing=1e-09)"
      ]
     },
     "execution_count": 17,
     "metadata": {},
     "output_type": "execute_result"
    }
   ],
   "source": [
    "from sklearn.naive_bayes import GaussianNB\n",
    "classifier = GaussianNB()\n",
    "classifier.fit(X_train, y_train)"
   ]
  },
  {
   "cell_type": "markdown",
   "metadata": {
    "colab_type": "text",
    "id": "1JaRM7zXDWUy"
   },
   "source": [
    "### Predicting the Test set results"
   ]
  },
  {
   "cell_type": "code",
   "execution_count": 18,
   "metadata": {
    "colab": {},
    "colab_type": "code",
    "id": "Iif0CVhFDaMp"
   },
   "outputs": [],
   "source": [
    "y_pred = classifier.predict(X_test)"
   ]
  },
  {
   "cell_type": "markdown",
   "metadata": {
    "colab_type": "text",
    "id": "xoMltea5Dir1"
   },
   "source": [
    "### Making the Confusion Matrix"
   ]
  },
  {
   "cell_type": "code",
   "execution_count": 19,
   "metadata": {},
   "outputs": [
    {
     "name": "stdout",
     "output_type": "stream",
     "text": [
      "[[1029  703]\n",
      " [ 584 3064]]\n",
      "accuracy score 0.7607806691449814\n"
     ]
    }
   ],
   "source": [
    "from sklearn.metrics import confusion_matrix, accuracy_score\n",
    "\n",
    "print(confusion_matrix(y_test,y_pred))\n",
    "print('accuracy score', accuracy_score(y_test, y_pred))"
   ]
  },
  {
   "cell_type": "code",
   "execution_count": null,
   "metadata": {},
   "outputs": [],
   "source": []
  },
  {
   "cell_type": "code",
   "execution_count": null,
   "metadata": {},
   "outputs": [],
   "source": []
  }
 ],
 "metadata": {
  "celltoolbar": "Raw Cell Format",
  "colab": {
   "authorship_tag": "ABX9TyM9tx3HllsdwqqTLZQw/zx5",
   "collapsed_sections": [],
   "name": "Natural Language Processing",
   "provenance": [],
   "toc_visible": true
  },
  "kernelspec": {
   "display_name": "Python 3",
   "language": "python",
   "name": "python3"
  },
  "language_info": {
   "codemirror_mode": {
    "name": "ipython",
    "version": 3
   },
   "file_extension": ".py",
   "mimetype": "text/x-python",
   "name": "python",
   "nbconvert_exporter": "python",
   "pygments_lexer": "ipython3",
   "version": "3.7.3"
  }
 },
 "nbformat": 4,
 "nbformat_minor": 1
}
