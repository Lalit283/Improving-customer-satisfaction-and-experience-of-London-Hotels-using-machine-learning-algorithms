{
 "cells": [
  {
   "cell_type": "markdown",
   "metadata": {},
   "source": [
    "# Import all required libraries"
   ]
  },
  {
   "cell_type": "code",
   "execution_count": 1,
   "metadata": {
    "scrolled": true
   },
   "outputs": [
    {
     "name": "stderr",
     "output_type": "stream",
     "text": [
      "C:\\New folder\\lib\\site-packages\\dask\\config.py:168: YAMLLoadWarning: calling yaml.load() without Loader=... is deprecated, as the default Loader is unsafe. Please read https://msg.pyyaml.org/load for full details.\n",
      "  data = yaml.load(f.read()) or {}\n",
      "C:\\New folder\\lib\\site-packages\\distributed\\config.py:20: YAMLLoadWarning: calling yaml.load() without Loader=... is deprecated, as the default Loader is unsafe. Please read https://msg.pyyaml.org/load for full details.\n",
      "  defaults = yaml.load(f)\n"
     ]
    }
   ],
   "source": [
    "import nltk\n",
    "import numpy as np\n",
    "import re\n",
    "import pandas as pd \n",
    "from nltk.tokenize import WordPunctTokenizer\n",
    "from sklearn.feature_extraction.text import TfidfVectorizer\n",
    "from sklearn import metrics\n",
    "from textblob import TextBlob\n",
    "from sklearn.cluster import KMeans\n",
    "#!pip install vaderSentiment\n",
    "from vaderSentiment.vaderSentiment import SentimentIntensityAnalyzer\n",
    "analyser = SentimentIntensityAnalyzer()\n",
    "#!pip install datashader\n",
    "import datashader as ds\n",
    "import datashader.transfer_functions as tf\n",
    "import matplotlib.pyplot as plt\n",
    "%matplotlib inline\n"
   ]
  },
  {
   "cell_type": "markdown",
   "metadata": {},
   "source": [
    "#### Load the dataset and take a look at the first few records"
   ]
  },
  {
   "cell_type": "code",
   "execution_count": 2,
   "metadata": {},
   "outputs": [
    {
     "name": "stdout",
     "output_type": "stream",
     "text": [
      "(27330, 6)\n"
     ]
    },
    {
     "data": {
      "text/html": [
       "<div>\n",
       "<style scoped>\n",
       "    .dataframe tbody tr th:only-of-type {\n",
       "        vertical-align: middle;\n",
       "    }\n",
       "\n",
       "    .dataframe tbody tr th {\n",
       "        vertical-align: top;\n",
       "    }\n",
       "\n",
       "    .dataframe thead th {\n",
       "        text-align: right;\n",
       "    }\n",
       "</style>\n",
       "<table border=\"1\" class=\"dataframe\">\n",
       "  <thead>\n",
       "    <tr style=\"text-align: right;\">\n",
       "      <th></th>\n",
       "      <th>Property_Name</th>\n",
       "      <th>Review_Rating</th>\n",
       "      <th>Review_Title</th>\n",
       "      <th>Review_Text</th>\n",
       "      <th>Location_Of_The_Reviewer</th>\n",
       "      <th>Date_Of_Review</th>\n",
       "    </tr>\n",
       "  </thead>\n",
       "  <tbody>\n",
       "    <tr>\n",
       "      <th>0</th>\n",
       "      <td>Apex London Wall Hotel</td>\n",
       "      <td>5</td>\n",
       "      <td>Ottima qualità prezzo</td>\n",
       "      <td>Siamo stati a Londra per un week end ed abbiam...</td>\n",
       "      <td>Casale Monferrato, Italy</td>\n",
       "      <td>10/20/2012</td>\n",
       "    </tr>\n",
       "    <tr>\n",
       "      <th>1</th>\n",
       "      <td>Corinthia Hotel London</td>\n",
       "      <td>5</td>\n",
       "      <td>By far, my best hotel in the world</td>\n",
       "      <td>I had a pleasure of staying in this hotel for ...</td>\n",
       "      <td>Savannah, Georgia</td>\n",
       "      <td>3/23/2016</td>\n",
       "    </tr>\n",
       "    <tr>\n",
       "      <th>2</th>\n",
       "      <td>The Savoy</td>\n",
       "      <td>5</td>\n",
       "      <td>First visit to the American Bar at the Savoy</td>\n",
       "      <td>A very lovely first visit to this iconic hotel...</td>\n",
       "      <td>London</td>\n",
       "      <td>7/30/2013</td>\n",
       "    </tr>\n",
       "    <tr>\n",
       "      <th>3</th>\n",
       "      <td>Rhodes Hotel</td>\n",
       "      <td>4</td>\n",
       "      <td>Nice stay</td>\n",
       "      <td>3 of us stayed at the Rhodes Hotel for 4 night...</td>\n",
       "      <td>Maui, Hawaii</td>\n",
       "      <td>06-02-2012</td>\n",
       "    </tr>\n",
       "    <tr>\n",
       "      <th>4</th>\n",
       "      <td>The Savoy</td>\n",
       "      <td>5</td>\n",
       "      <td>Perfection</td>\n",
       "      <td>Form the moment we arrived until we left we ex...</td>\n",
       "      <td>London, United Kingdom</td>\n",
       "      <td>11/24/2017</td>\n",
       "    </tr>\n",
       "  </tbody>\n",
       "</table>\n",
       "</div>"
      ],
      "text/plain": [
       "            Property_Name  Review_Rating  \\\n",
       "0  Apex London Wall Hotel              5   \n",
       "1  Corinthia Hotel London              5   \n",
       "2               The Savoy              5   \n",
       "3            Rhodes Hotel              4   \n",
       "4               The Savoy              5   \n",
       "\n",
       "                                   Review_Title  \\\n",
       "0                         Ottima qualità prezzo   \n",
       "1            By far, my best hotel in the world   \n",
       "2  First visit to the American Bar at the Savoy   \n",
       "3                                     Nice stay   \n",
       "4                                    Perfection   \n",
       "\n",
       "                                         Review_Text  \\\n",
       "0  Siamo stati a Londra per un week end ed abbiam...   \n",
       "1  I had a pleasure of staying in this hotel for ...   \n",
       "2  A very lovely first visit to this iconic hotel...   \n",
       "3  3 of us stayed at the Rhodes Hotel for 4 night...   \n",
       "4  Form the moment we arrived until we left we ex...   \n",
       "\n",
       "   Location_Of_The_Reviewer Date_Of_Review  \n",
       "0  Casale Monferrato, Italy     10/20/2012  \n",
       "1         Savannah, Georgia      3/23/2016  \n",
       "2                    London      7/30/2013  \n",
       "3              Maui, Hawaii     06-02-2012  \n",
       "4    London, United Kingdom     11/24/2017  "
      ]
     },
     "execution_count": 2,
     "metadata": {},
     "output_type": "execute_result"
    }
   ],
   "source": [
    "df = pd.read_csv('London_hotel_reviews.csv', encoding = \"ISO-8859-1\")\n",
    "print(df.shape)\n",
    "df.head()"
   ]
  },
  {
   "cell_type": "code",
   "execution_count": 3,
   "metadata": {},
   "outputs": [
    {
     "name": "stdout",
     "output_type": "stream",
     "text": [
      "Property_Name                  0\n",
      "Review_Rating                  0\n",
      "Review_Title                   0\n",
      "Review_Text                    0\n",
      "Location_Of_The_Reviewer    3953\n",
      "Date_Of_Review                 1\n",
      "dtype: int64\n",
      "\n"
     ]
    },
    {
     "data": {
      "text/html": [
       "<div>\n",
       "<style scoped>\n",
       "    .dataframe tbody tr th:only-of-type {\n",
       "        vertical-align: middle;\n",
       "    }\n",
       "\n",
       "    .dataframe tbody tr th {\n",
       "        vertical-align: top;\n",
       "    }\n",
       "\n",
       "    .dataframe thead th {\n",
       "        text-align: right;\n",
       "    }\n",
       "</style>\n",
       "<table border=\"1\" class=\"dataframe\">\n",
       "  <thead>\n",
       "    <tr style=\"text-align: right;\">\n",
       "      <th></th>\n",
       "      <th>Property_Name</th>\n",
       "      <th>Review_Rating</th>\n",
       "      <th>Review_Title</th>\n",
       "      <th>Review_Text</th>\n",
       "      <th>Location_Of_The_Reviewer</th>\n",
       "      <th>Date_Of_Review</th>\n",
       "    </tr>\n",
       "  </thead>\n",
       "  <tbody>\n",
       "    <tr>\n",
       "      <th>5</th>\n",
       "      <td>Corinthia Hotel London</td>\n",
       "      <td>1</td>\n",
       "      <td>Staff stole from me!!</td>\n",
       "      <td>Well I am no strange to London's 5star hotels ...</td>\n",
       "      <td>NaN</td>\n",
       "      <td>03-01-2013</td>\n",
       "    </tr>\n",
       "    <tr>\n",
       "      <th>24</th>\n",
       "      <td>Mondrian London at Sea Containers</td>\n",
       "      <td>5</td>\n",
       "      <td>Fantastic nights stay, one of the best hotels ...</td>\n",
       "      <td>My partner and I found this hotel by chance an...</td>\n",
       "      <td>NaN</td>\n",
       "      <td>6/20/2015</td>\n",
       "    </tr>\n",
       "    <tr>\n",
       "      <th>34</th>\n",
       "      <td>Mondrian London at Sea Containers</td>\n",
       "      <td>5</td>\n",
       "      <td>Just as good second time around!</td>\n",
       "      <td>After an amazing experience the first time we ...</td>\n",
       "      <td>NaN</td>\n",
       "      <td>10/15/2015</td>\n",
       "    </tr>\n",
       "    <tr>\n",
       "      <th>37</th>\n",
       "      <td>The Rembrandt</td>\n",
       "      <td>5</td>\n",
       "      <td>Good Hotel - Great Area</td>\n",
       "      <td>Very good hotel in a lovely area. Handy to the...</td>\n",
       "      <td>NaN</td>\n",
       "      <td>11-04-2016</td>\n",
       "    </tr>\n",
       "    <tr>\n",
       "      <th>45</th>\n",
       "      <td>Apex London Wall Hotel</td>\n",
       "      <td>4</td>\n",
       "      <td>Eccellente</td>\n",
       "      <td>In tutto, dalla struttura nuova in stile moder...</td>\n",
       "      <td>NaN</td>\n",
       "      <td>4/30/2013</td>\n",
       "    </tr>\n",
       "  </tbody>\n",
       "</table>\n",
       "</div>"
      ],
      "text/plain": [
       "                        Property_Name  Review_Rating  \\\n",
       "5              Corinthia Hotel London              1   \n",
       "24  Mondrian London at Sea Containers              5   \n",
       "34  Mondrian London at Sea Containers              5   \n",
       "37                      The Rembrandt              5   \n",
       "45             Apex London Wall Hotel              4   \n",
       "\n",
       "                                         Review_Title  \\\n",
       "5                               Staff stole from me!!   \n",
       "24  Fantastic nights stay, one of the best hotels ...   \n",
       "34                   Just as good second time around!   \n",
       "37                            Good Hotel - Great Area   \n",
       "45                                         Eccellente   \n",
       "\n",
       "                                          Review_Text  \\\n",
       "5   Well I am no strange to London's 5star hotels ...   \n",
       "24  My partner and I found this hotel by chance an...   \n",
       "34  After an amazing experience the first time we ...   \n",
       "37  Very good hotel in a lovely area. Handy to the...   \n",
       "45  In tutto, dalla struttura nuova in stile moder...   \n",
       "\n",
       "   Location_Of_The_Reviewer Date_Of_Review  \n",
       "5                       NaN     03-01-2013  \n",
       "24                      NaN      6/20/2015  \n",
       "34                      NaN     10/15/2015  \n",
       "37                      NaN     11-04-2016  \n",
       "45                      NaN      4/30/2013  "
      ]
     },
     "execution_count": 3,
     "metadata": {},
     "output_type": "execute_result"
    }
   ],
   "source": [
    "print(df.isna().sum(), end = '\\n\\n')\n",
    "df[df.isnull().any(axis=1)].head()"
   ]
  },
  {
   "cell_type": "code",
   "execution_count": 4,
   "metadata": {},
   "outputs": [
    {
     "data": {
      "text/html": [
       "<div>\n",
       "<style scoped>\n",
       "    .dataframe tbody tr th:only-of-type {\n",
       "        vertical-align: middle;\n",
       "    }\n",
       "\n",
       "    .dataframe tbody tr th {\n",
       "        vertical-align: top;\n",
       "    }\n",
       "\n",
       "    .dataframe thead th {\n",
       "        text-align: right;\n",
       "    }\n",
       "</style>\n",
       "<table border=\"1\" class=\"dataframe\">\n",
       "  <thead>\n",
       "    <tr style=\"text-align: right;\">\n",
       "      <th></th>\n",
       "      <th>Property_Name</th>\n",
       "      <th>Review_Rating</th>\n",
       "      <th>Review_Title</th>\n",
       "      <th>Review_Text</th>\n",
       "      <th>Location_Of_The_Reviewer</th>\n",
       "      <th>Date_Of_Review</th>\n",
       "    </tr>\n",
       "  </thead>\n",
       "  <tbody>\n",
       "    <tr>\n",
       "      <th>6556</th>\n",
       "      <td>The Lanesborough</td>\n",
       "      <td>4</td>\n",
       "      <td>&lt;U+0412&gt; &lt;U+043F&gt;&lt;U+043E&gt;&lt;U+0434&gt;&lt;U+0440&gt;&lt;U+04...</td>\n",
       "      <td>&lt;U+041E&gt;&lt;U+0442&gt;&lt;U+0435&gt;&lt;U+043B&gt;&lt;U+044C&gt; : | &lt;...</td>\n",
       "      <td>NaN</td>\n",
       "      <td>NaN</td>\n",
       "    </tr>\n",
       "  </tbody>\n",
       "</table>\n",
       "</div>"
      ],
      "text/plain": [
       "         Property_Name  Review_Rating  \\\n",
       "6556  The Lanesborough              4   \n",
       "\n",
       "                                           Review_Title  \\\n",
       "6556  <U+0412> <U+043F><U+043E><U+0434><U+0440><U+04...   \n",
       "\n",
       "                                            Review_Text  \\\n",
       "6556  <U+041E><U+0442><U+0435><U+043B><U+044C> : | <...   \n",
       "\n",
       "     Location_Of_The_Reviewer Date_Of_Review  \n",
       "6556                      NaN            NaN  "
      ]
     },
     "execution_count": 4,
     "metadata": {},
     "output_type": "execute_result"
    }
   ],
   "source": [
    "df[df[\"Date_Of_Review\"].isnull()]"
   ]
  },
  {
   "cell_type": "code",
   "execution_count": 5,
   "metadata": {},
   "outputs": [
    {
     "name": "stdout",
     "output_type": "stream",
     "text": [
      "431 reviews that are probably gibberish.\n"
     ]
    },
    {
     "data": {
      "text/html": [
       "<div>\n",
       "<style scoped>\n",
       "    .dataframe tbody tr th:only-of-type {\n",
       "        vertical-align: middle;\n",
       "    }\n",
       "\n",
       "    .dataframe tbody tr th {\n",
       "        vertical-align: top;\n",
       "    }\n",
       "\n",
       "    .dataframe thead th {\n",
       "        text-align: right;\n",
       "    }\n",
       "</style>\n",
       "<table border=\"1\" class=\"dataframe\">\n",
       "  <thead>\n",
       "    <tr style=\"text-align: right;\">\n",
       "      <th></th>\n",
       "      <th>Property_Name</th>\n",
       "      <th>Review_Rating</th>\n",
       "      <th>Review_Title</th>\n",
       "      <th>Review_Text</th>\n",
       "      <th>Location_Of_The_Reviewer</th>\n",
       "      <th>Date_Of_Review</th>\n",
       "    </tr>\n",
       "  </thead>\n",
       "  <tbody>\n",
       "    <tr>\n",
       "      <th>90</th>\n",
       "      <td>The Dorchester</td>\n",
       "      <td>5</td>\n",
       "      <td>&lt;U+0391&gt;&lt;U+03B3&gt;&lt;U+03B3&gt;&lt;U+03BB&gt;&lt;U+03B9&gt;&lt;U+03B...</td>\n",
       "      <td>e&lt;U+03B9&gt;&lt;U+03BD&gt;a&lt;U+03B9&gt; e&lt;U+03BD&gt;a&lt;U+03C2&gt; ...</td>\n",
       "      <td>Athens, Greece</td>\n",
       "      <td>7/18/2017</td>\n",
       "    </tr>\n",
       "    <tr>\n",
       "      <th>174</th>\n",
       "      <td>Corinthia Hotel London</td>\n",
       "      <td>5</td>\n",
       "      <td>&lt;U+041B&gt;&lt;U+0443&gt;&lt;U+0447&gt;&lt;U+0448&gt;&lt;U+0438&gt;&lt;U+043...</td>\n",
       "      <td>&lt;U+0423&gt;&lt;U+0440&gt;&lt;U+043E&gt;&lt;U+0432&gt;&lt;U+0435&gt;&lt;U+043...</td>\n",
       "      <td>Zurich</td>\n",
       "      <td>2/17/2016</td>\n",
       "    </tr>\n",
       "    <tr>\n",
       "      <th>178</th>\n",
       "      <td>Mandarin Oriental Hyde Park, London</td>\n",
       "      <td>5</td>\n",
       "      <td>&lt;U+512A&gt;&lt;U+96C5&gt;&lt;U+306A&gt;&lt;U+6642&gt;&lt;U+9593&gt;&lt;U+304...</td>\n",
       "      <td>&lt;U+5148&gt;&lt;U+6708&gt;&lt;U+3001&gt;&lt;U+304A&gt;&lt;U+98DF&gt;&lt;U+4E8...</td>\n",
       "      <td>Aichi Prefecture, Japan</td>\n",
       "      <td>11/20/2015</td>\n",
       "    </tr>\n",
       "    <tr>\n",
       "      <th>328</th>\n",
       "      <td>The Savoy</td>\n",
       "      <td>5</td>\n",
       "      <td>&lt;U+C544&gt;&lt;U+B984&gt;&lt;U+B2F5&gt;&lt;U+ACE0&gt; &lt;U+C6B0&gt;&lt;U+C5...</td>\n",
       "      <td>&lt;U+CE5C&gt;&lt;U+C808&gt;&lt;U+D558&gt;&lt;U+ACE0&gt; &lt;U+C720&gt;&lt;U+CF...</td>\n",
       "      <td>NaN</td>\n",
       "      <td>5/15/2017</td>\n",
       "    </tr>\n",
       "    <tr>\n",
       "      <th>364</th>\n",
       "      <td>45 Park Lane - Dorchester Collection</td>\n",
       "      <td>5</td>\n",
       "      <td>&lt;U+041C&gt;&lt;U+043E&gt;&lt;U+0434&gt;&lt;U+043D&gt;&lt;U+044B&gt;&lt;U+043...</td>\n",
       "      <td>&lt;U+041E&gt;&lt;U+0442&gt;&lt;U+0435&gt;&lt;U+043B&gt;&lt;U+044C&gt; &lt;U+04...</td>\n",
       "      <td>Moscow, Russia</td>\n",
       "      <td>09-01-2015</td>\n",
       "    </tr>\n",
       "  </tbody>\n",
       "</table>\n",
       "</div>"
      ],
      "text/plain": [
       "                            Property_Name  Review_Rating  \\\n",
       "90                         The Dorchester              5   \n",
       "174                Corinthia Hotel London              5   \n",
       "178   Mandarin Oriental Hyde Park, London              5   \n",
       "328                             The Savoy              5   \n",
       "364  45 Park Lane - Dorchester Collection              5   \n",
       "\n",
       "                                          Review_Title  \\\n",
       "90   <U+0391><U+03B3><U+03B3><U+03BB><U+03B9><U+03B...   \n",
       "174  <U+041B><U+0443><U+0447><U+0448><U+0438><U+043...   \n",
       "178  <U+512A><U+96C5><U+306A><U+6642><U+9593><U+304...   \n",
       "328  <U+C544><U+B984><U+B2F5><U+ACE0> <U+C6B0><U+C5...   \n",
       "364  <U+041C><U+043E><U+0434><U+043D><U+044B><U+043...   \n",
       "\n",
       "                                           Review_Text  \\\n",
       "90   e<U+03B9><U+03BD>a<U+03B9> e<U+03BD>a<U+03C2> ...   \n",
       "174  <U+0423><U+0440><U+043E><U+0432><U+0435><U+043...   \n",
       "178  <U+5148><U+6708><U+3001><U+304A><U+98DF><U+4E8...   \n",
       "328  <U+CE5C><U+C808><U+D558><U+ACE0> <U+C720><U+CF...   \n",
       "364  <U+041E><U+0442><U+0435><U+043B><U+044C> <U+04...   \n",
       "\n",
       "    Location_Of_The_Reviewer Date_Of_Review  \n",
       "90            Athens, Greece      7/18/2017  \n",
       "174                   Zurich      2/17/2016  \n",
       "178  Aichi Prefecture, Japan     11/20/2015  \n",
       "328                      NaN      5/15/2017  \n",
       "364           Moscow, Russia     09-01-2015  "
      ]
     },
     "execution_count": 5,
     "metadata": {},
     "output_type": "execute_result"
    }
   ],
   "source": [
    "print(len(df[df['Review_Title'].str.contains(\"<U\")]), 'reviews that are probably gibberish.')\n",
    "df[df['Review_Title'].str.contains(\"<U\")].head()"
   ]
  },
  {
   "cell_type": "code",
   "execution_count": 6,
   "metadata": {},
   "outputs": [],
   "source": [
    "df = df[df['Review_Title'].str.contains(\"<U\") == False]"
   ]
  },
  {
   "cell_type": "code",
   "execution_count": 7,
   "metadata": {},
   "outputs": [
    {
     "name": "stdout",
     "output_type": "stream",
     "text": [
      "(26899, 6)\n"
     ]
    },
    {
     "data": {
      "text/html": [
       "<div>\n",
       "<style scoped>\n",
       "    .dataframe tbody tr th:only-of-type {\n",
       "        vertical-align: middle;\n",
       "    }\n",
       "\n",
       "    .dataframe tbody tr th {\n",
       "        vertical-align: top;\n",
       "    }\n",
       "\n",
       "    .dataframe thead th {\n",
       "        text-align: right;\n",
       "    }\n",
       "</style>\n",
       "<table border=\"1\" class=\"dataframe\">\n",
       "  <thead>\n",
       "    <tr style=\"text-align: right;\">\n",
       "      <th></th>\n",
       "      <th>Property_Name</th>\n",
       "      <th>Review_Rating</th>\n",
       "      <th>Review_Title</th>\n",
       "      <th>Review_Text</th>\n",
       "      <th>Location_Of_The_Reviewer</th>\n",
       "      <th>Date_Of_Review</th>\n",
       "    </tr>\n",
       "  </thead>\n",
       "  <tbody>\n",
       "    <tr>\n",
       "      <th>0</th>\n",
       "      <td>Apex London Wall Hotel</td>\n",
       "      <td>5</td>\n",
       "      <td>Ottima qualità prezzo</td>\n",
       "      <td>Siamo stati a Londra per un week end ed abbiam...</td>\n",
       "      <td>Casale Monferrato, Italy</td>\n",
       "      <td>10/20/2012</td>\n",
       "    </tr>\n",
       "    <tr>\n",
       "      <th>1</th>\n",
       "      <td>Corinthia Hotel London</td>\n",
       "      <td>5</td>\n",
       "      <td>By far, my best hotel in the world</td>\n",
       "      <td>I had a pleasure of staying in this hotel for ...</td>\n",
       "      <td>Savannah, Georgia</td>\n",
       "      <td>3/23/2016</td>\n",
       "    </tr>\n",
       "    <tr>\n",
       "      <th>2</th>\n",
       "      <td>The Savoy</td>\n",
       "      <td>5</td>\n",
       "      <td>First visit to the American Bar at the Savoy</td>\n",
       "      <td>A very lovely first visit to this iconic hotel...</td>\n",
       "      <td>London</td>\n",
       "      <td>7/30/2013</td>\n",
       "    </tr>\n",
       "    <tr>\n",
       "      <th>3</th>\n",
       "      <td>Rhodes Hotel</td>\n",
       "      <td>4</td>\n",
       "      <td>Nice stay</td>\n",
       "      <td>3 of us stayed at the Rhodes Hotel for 4 night...</td>\n",
       "      <td>Maui, Hawaii</td>\n",
       "      <td>06-02-2012</td>\n",
       "    </tr>\n",
       "    <tr>\n",
       "      <th>4</th>\n",
       "      <td>The Savoy</td>\n",
       "      <td>5</td>\n",
       "      <td>Perfection</td>\n",
       "      <td>Form the moment we arrived until we left we ex...</td>\n",
       "      <td>London, United Kingdom</td>\n",
       "      <td>11/24/2017</td>\n",
       "    </tr>\n",
       "  </tbody>\n",
       "</table>\n",
       "</div>"
      ],
      "text/plain": [
       "            Property_Name  Review_Rating  \\\n",
       "0  Apex London Wall Hotel              5   \n",
       "1  Corinthia Hotel London              5   \n",
       "2               The Savoy              5   \n",
       "3            Rhodes Hotel              4   \n",
       "4               The Savoy              5   \n",
       "\n",
       "                                   Review_Title  \\\n",
       "0                         Ottima qualità prezzo   \n",
       "1            By far, my best hotel in the world   \n",
       "2  First visit to the American Bar at the Savoy   \n",
       "3                                     Nice stay   \n",
       "4                                    Perfection   \n",
       "\n",
       "                                         Review_Text  \\\n",
       "0  Siamo stati a Londra per un week end ed abbiam...   \n",
       "1  I had a pleasure of staying in this hotel for ...   \n",
       "2  A very lovely first visit to this iconic hotel...   \n",
       "3  3 of us stayed at the Rhodes Hotel for 4 night...   \n",
       "4  Form the moment we arrived until we left we ex...   \n",
       "\n",
       "   Location_Of_The_Reviewer Date_Of_Review  \n",
       "0  Casale Monferrato, Italy     10/20/2012  \n",
       "1         Savannah, Georgia      3/23/2016  \n",
       "2                    London      7/30/2013  \n",
       "3              Maui, Hawaii     06-02-2012  \n",
       "4    London, United Kingdom     11/24/2017  "
      ]
     },
     "execution_count": 7,
     "metadata": {},
     "output_type": "execute_result"
    }
   ],
   "source": [
    "print(df.shape)\n",
    "df.head()"
   ]
  },
  {
   "cell_type": "markdown",
   "metadata": {},
   "source": [
    "#### Number of unique Reviews."
   ]
  },
  {
   "cell_type": "code",
   "execution_count": 8,
   "metadata": {},
   "outputs": [
    {
     "name": "stdout",
     "output_type": "stream",
     "text": [
      "26898\n"
     ]
    }
   ],
   "source": [
    "unique_text = df.Review_Text.unique()\n",
    "print(len(unique_text))"
   ]
  },
  {
   "cell_type": "markdown",
   "metadata": {},
   "source": [
    "#### Number of Unique Locations\n"
   ]
  },
  {
   "cell_type": "code",
   "execution_count": 9,
   "metadata": {
    "scrolled": false
   },
   "outputs": [
    {
     "data": {
      "text/plain": [
       "London, United Kingdom         1848\n",
       "London                          469\n",
       "New York City, New York         308\n",
       "Paris, France                   216\n",
       "Manchester, United Kingdom      193\n",
       "Sydney, Australia               154\n",
       "Los Angeles, California         144\n",
       "Melbourne, Australia            142\n",
       "UK                              138\n",
       "Birmingham, United Kingdom      129\n",
       "Toronto, Canada                 116\n",
       "Edinburgh, United Kingdom       102\n",
       "Milan, Italy                    101\n",
       "Dublin, Ireland                  96\n",
       "Glasgow, United Kingdom          95\n",
       "Hong Kong, China                 95\n",
       "Bristol, United Kingdom          93\n",
       "Leeds, United Kingdom            88\n",
       "Singapore, Singapore             88\n",
       "Dubai, United Arab Emirates      85\n",
       "Name: Location_Of_The_Reviewer, dtype: int64"
      ]
     },
     "execution_count": 9,
     "metadata": {},
     "output_type": "execute_result"
    }
   ],
   "source": [
    "unique_location = df.Location_Of_The_Reviewer.unique()\n",
    "len(unique_location)\n",
    "df.Location_Of_The_Reviewer.value_counts().head(20) "
   ]
  },
  {
   "cell_type": "markdown",
   "metadata": {},
   "source": [
    "#### Text Cleaning"
   ]
  },
  {
   "cell_type": "code",
   "execution_count": 10,
   "metadata": {},
   "outputs": [
    {
     "data": {
      "text/plain": [
       "26899"
      ]
     },
     "execution_count": 10,
     "metadata": {},
     "output_type": "execute_result"
    }
   ],
   "source": [
    "df.Review_Text.count()"
   ]
  },
  {
   "cell_type": "code",
   "execution_count": 11,
   "metadata": {},
   "outputs": [],
   "source": [
    "def remove_pattern(input_txt, pattern):\n",
    "    r = re.findall(pattern, input_txt)\n",
    "    for i in r:\n",
    "        input_txt = re.sub(i, '', input_txt)\n",
    "        \n",
    "    return input_txt"
   ]
  },
  {
   "cell_type": "markdown",
   "metadata": {},
   "source": [
    "#### Remove special characters, numbers, punctuations"
   ]
  },
  {
   "cell_type": "markdown",
   "metadata": {},
   "source": [
    "#### And creat a new column Clean_text."
   ]
  },
  {
   "cell_type": "code",
   "execution_count": 12,
   "metadata": {
    "scrolled": true
   },
   "outputs": [],
   "source": [
    "df['Clean_text'] = df['Review_Text'].str.replace(\"[^a-zA-Z#]\", \" \")"
   ]
  },
  {
   "cell_type": "code",
   "execution_count": 13,
   "metadata": {},
   "outputs": [],
   "source": [
    "\n",
    "df['Clean_text'] = df['Clean_text'].str.replace(\"[^a-zA-Z#]\", \" \")"
   ]
  },
  {
   "cell_type": "code",
   "execution_count": 14,
   "metadata": {},
   "outputs": [],
   "source": [
    "df['Clean_text'] = df['Clean_text'].apply(lambda x: ' '.join([w for w in x.split() if len(w)>3]))"
   ]
  },
  {
   "cell_type": "code",
   "execution_count": 15,
   "metadata": {},
   "outputs": [],
   "source": [
    "tokenized_text = df['Clean_text'].apply(lambda x: x.split())"
   ]
  },
  {
   "cell_type": "code",
   "execution_count": 16,
   "metadata": {},
   "outputs": [
    {
     "data": {
      "text/plain": [
       "0    [siamo, stati, londra, week, abbiamo, alloggia...\n",
       "1    [pleasur, stay, thi, hotel, night, recent, thi...\n",
       "2    [veri, love, first, visit, thi, icon, hotel, w...\n",
       "3    [stay, rhode, hotel, night, great, locat, take...\n",
       "4    [form, moment, arriv, until, left, experienc, ...\n",
       "Name: Clean_text, dtype: object"
      ]
     },
     "execution_count": 16,
     "metadata": {},
     "output_type": "execute_result"
    }
   ],
   "source": [
    "from nltk.stem.porter import *\n",
    "stemmer = PorterStemmer()\n",
    "\n",
    "tokenized_text = tokenized_text.apply(lambda x: [stemmer.stem(i) for i in x]) # stemming\n",
    "tokenized_text.head()"
   ]
  },
  {
   "cell_type": "markdown",
   "metadata": {},
   "source": [
    "#### Compair Review_Test and Clean_Test"
   ]
  },
  {
   "cell_type": "code",
   "execution_count": 17,
   "metadata": {
    "scrolled": true
   },
   "outputs": [
    {
     "data": {
      "text/html": [
       "<div>\n",
       "<style scoped>\n",
       "    .dataframe tbody tr th:only-of-type {\n",
       "        vertical-align: middle;\n",
       "    }\n",
       "\n",
       "    .dataframe tbody tr th {\n",
       "        vertical-align: top;\n",
       "    }\n",
       "\n",
       "    .dataframe thead th {\n",
       "        text-align: right;\n",
       "    }\n",
       "</style>\n",
       "<table border=\"1\" class=\"dataframe\">\n",
       "  <thead>\n",
       "    <tr style=\"text-align: right;\">\n",
       "      <th></th>\n",
       "      <th>Review_Text</th>\n",
       "      <th>Clean_text</th>\n",
       "    </tr>\n",
       "  </thead>\n",
       "  <tbody>\n",
       "    <tr>\n",
       "      <th>0</th>\n",
       "      <td>Siamo stati a Londra per un week end ed abbiam...</td>\n",
       "      <td>Siamo stati Londra week abbiamo alloggiato que...</td>\n",
       "    </tr>\n",
       "    <tr>\n",
       "      <th>1</th>\n",
       "      <td>I had a pleasure of staying in this hotel for ...</td>\n",
       "      <td>pleasure staying this hotel nights recently Th...</td>\n",
       "    </tr>\n",
       "    <tr>\n",
       "      <th>2</th>\n",
       "      <td>A very lovely first visit to this iconic hotel...</td>\n",
       "      <td>very lovely first visit this iconic hotel Wond...</td>\n",
       "    </tr>\n",
       "    <tr>\n",
       "      <th>3</th>\n",
       "      <td>3 of us stayed at the Rhodes Hotel for 4 night...</td>\n",
       "      <td>stayed Rhodes Hotel nights great location taki...</td>\n",
       "    </tr>\n",
       "    <tr>\n",
       "      <th>4</th>\n",
       "      <td>Form the moment we arrived until we left we ex...</td>\n",
       "      <td>Form moment arrived until left experienced abs...</td>\n",
       "    </tr>\n",
       "    <tr>\n",
       "      <th>5</th>\n",
       "      <td>Well I am no strange to London's 5star hotels ...</td>\n",
       "      <td>Well strange London star hotels when comes alo...</td>\n",
       "    </tr>\n",
       "    <tr>\n",
       "      <th>6</th>\n",
       "      <td>The hotel staff were very helpful, I booked th...</td>\n",
       "      <td>hotel staff were very helpful booked wrong hot...</td>\n",
       "    </tr>\n",
       "    <tr>\n",
       "      <th>7</th>\n",
       "      <td>Already stepping out of the taxi you get that ...</td>\n",
       "      <td>Already stepping taxi that very special feelin...</td>\n",
       "    </tr>\n",
       "    <tr>\n",
       "      <th>8</th>\n",
       "      <td>What an incredibly cool place. Had the most de...</td>\n",
       "      <td>What incredibly cool place most delicious inte...</td>\n",
       "    </tr>\n",
       "    <tr>\n",
       "      <th>9</th>\n",
       "      <td>Ottimo rapporto qualità - prezzo, ottima la po...</td>\n",
       "      <td>Ottimo rapporto qualit prezzo ottima posizione...</td>\n",
       "    </tr>\n",
       "    <tr>\n",
       "      <th>10</th>\n",
       "      <td>The Savoy is The Savoy, every time I came back...</td>\n",
       "      <td>Savoy Savoy every time came back real surprise...</td>\n",
       "    </tr>\n",
       "    <tr>\n",
       "      <th>11</th>\n",
       "      <td>The location next to the park and close to Har...</td>\n",
       "      <td>location next park close Harvey Harrods means ...</td>\n",
       "    </tr>\n",
       "    <tr>\n",
       "      <th>12</th>\n",
       "      <td>was so looking forward to staying here had hig...</td>\n",
       "      <td>looking forward staying here high expections w...</td>\n",
       "    </tr>\n",
       "    <tr>\n",
       "      <th>13</th>\n",
       "      <td>Just a short stay mainly focussed around the A...</td>\n",
       "      <td>Just short stay mainly focussed around Alain D...</td>\n",
       "    </tr>\n",
       "    <tr>\n",
       "      <th>14</th>\n",
       "      <td>The Corinthia is a hotel that I expect when I ...</td>\n",
       "      <td>Corinthia hotel that expect when read that hot...</td>\n",
       "    </tr>\n",
       "    <tr>\n",
       "      <th>15</th>\n",
       "      <td>I booked 1 night DBB choosing this hotel as it...</td>\n",
       "      <td>booked night choosing this hotel close Barbica...</td>\n",
       "    </tr>\n",
       "    <tr>\n",
       "      <th>16</th>\n",
       "      <td>Well, what can I say...I chose this venue to p...</td>\n",
       "      <td>Well what chose this venue propose girlfriend ...</td>\n",
       "    </tr>\n",
       "    <tr>\n",
       "      <th>17</th>\n",
       "      <td>The Mandarin in London lives up to the five st...</td>\n",
       "      <td>Mandarin London lives five star rating that de...</td>\n",
       "    </tr>\n",
       "    <tr>\n",
       "      <th>18</th>\n",
       "      <td>We had an amazing time staying at the Mondrian...</td>\n",
       "      <td>amazing time staying Mondrian wedding total ro...</td>\n",
       "    </tr>\n",
       "    <tr>\n",
       "      <th>19</th>\n",
       "      <td>A nice and stylish hotel with a very impressiv...</td>\n",
       "      <td>nice stylish hotel with very impressive lobby ...</td>\n",
       "    </tr>\n",
       "    <tr>\n",
       "      <th>20</th>\n",
       "      <td>I had always wanted to stay at The Dorchester....</td>\n",
       "      <td>always wanted stay Dorchester seems grand quin...</td>\n",
       "    </tr>\n",
       "    <tr>\n",
       "      <th>21</th>\n",
       "      <td>Nice visit but didn't feel special. Upgraded t...</td>\n",
       "      <td>Nice visit didn feel special Upgraded superior...</td>\n",
       "    </tr>\n",
       "    <tr>\n",
       "      <th>22</th>\n",
       "      <td>Chris and Maria were wonderful hosts. We staye...</td>\n",
       "      <td>Chris Maria were wonderful hosts stayed Rhodes...</td>\n",
       "    </tr>\n",
       "    <tr>\n",
       "      <th>23</th>\n",
       "      <td>A 15 mn à pied, 5 en bus (passage fréquent) de...</td>\n",
       "      <td>pied passage quent station north acton central...</td>\n",
       "    </tr>\n",
       "    <tr>\n",
       "      <th>24</th>\n",
       "      <td>My partner and I found this hotel by chance an...</td>\n",
       "      <td>partner found this hotel chance good reviews c...</td>\n",
       "    </tr>\n",
       "    <tr>\n",
       "      <th>25</th>\n",
       "      <td>I have just returned from a very quick trip to...</td>\n",
       "      <td>have just returned from very quick trip London...</td>\n",
       "    </tr>\n",
       "    <tr>\n",
       "      <th>26</th>\n",
       "      <td>It's a family trip by staying at a business di...</td>\n",
       "      <td>family trip staying business district hotel lo...</td>\n",
       "    </tr>\n",
       "    <tr>\n",
       "      <th>27</th>\n",
       "      <td>Nous avons pris l'habitude de descendre dans c...</td>\n",
       "      <td>Nous avons pris habitude descendre dans hotel ...</td>\n",
       "    </tr>\n",
       "    <tr>\n",
       "      <th>28</th>\n",
       "      <td>I'm always a little skeptical about what I rea...</td>\n",
       "      <td>always little skeptical about what read glowin...</td>\n",
       "    </tr>\n",
       "    <tr>\n",
       "      <th>29</th>\n",
       "      <td>This was the most wonderful stay. Every little...</td>\n",
       "      <td>This most wonderful stay Every little detail a...</td>\n",
       "    </tr>\n",
       "    <tr>\n",
       "      <th>...</th>\n",
       "      <td>...</td>\n",
       "      <td>...</td>\n",
       "    </tr>\n",
       "    <tr>\n",
       "      <th>27300</th>\n",
       "      <td>I arrived in the evening and didn't get a grea...</td>\n",
       "      <td>arrived evening didn great welcome have booked...</td>\n",
       "    </tr>\n",
       "    <tr>\n",
       "      <th>27301</th>\n",
       "      <td>The Corinthia will always be my favourite Lond...</td>\n",
       "      <td>Corinthia will always favourite London Hotel r...</td>\n",
       "    </tr>\n",
       "    <tr>\n",
       "      <th>27302</th>\n",
       "      <td>We had a very enjoyable stay here, using the h...</td>\n",
       "      <td>very enjoyable stay here using hotel base seei...</td>\n",
       "    </tr>\n",
       "    <tr>\n",
       "      <th>27303</th>\n",
       "      <td>Words cannot adequately describe how fantastic...</td>\n",
       "      <td>Words cannot adequately describe fantastic wee...</td>\n",
       "    </tr>\n",
       "    <tr>\n",
       "      <th>27304</th>\n",
       "      <td>This room was booked by my brother as we atten...</td>\n",
       "      <td>This room booked brother attend wembley each y...</td>\n",
       "    </tr>\n",
       "    <tr>\n",
       "      <th>27305</th>\n",
       "      <td>Beautiful room&amp;amp;lobby, amazing concierge, a...</td>\n",
       "      <td>Beautiful room lobby amazing concierge best ho...</td>\n",
       "    </tr>\n",
       "    <tr>\n",
       "      <th>27306</th>\n",
       "      <td>Fabulous hotel, great location and very attent...</td>\n",
       "      <td>Fabulous hotel great location very attentive s...</td>\n",
       "    </tr>\n",
       "    <tr>\n",
       "      <th>27307</th>\n",
       "      <td>My partner took me to this fabulous hotel for ...</td>\n",
       "      <td>partner took this fabulous hotel birthday what...</td>\n",
       "    </tr>\n",
       "    <tr>\n",
       "      <th>27308</th>\n",
       "      <td>Estuvimos 3 noches en el hotel, ya habíamos le...</td>\n",
       "      <td>Estuvimos noches hotel amos algunas opiniones ...</td>\n",
       "    </tr>\n",
       "    <tr>\n",
       "      <th>27309</th>\n",
       "      <td>DO NOT stay here, I would have rather slept in...</td>\n",
       "      <td>stay here would have rather slept room dirty s...</td>\n",
       "    </tr>\n",
       "    <tr>\n",
       "      <th>27310</th>\n",
       "      <td>My wife and I stayed there for two nights in O...</td>\n",
       "      <td>wife stayed there nights October great locatio...</td>\n",
       "    </tr>\n",
       "    <tr>\n",
       "      <th>27311</th>\n",
       "      <td>I went to London and stayed at th Mondrian, wi...</td>\n",
       "      <td>went London stayed Mondrian with friend daught...</td>\n",
       "    </tr>\n",
       "    <tr>\n",
       "      <th>27312</th>\n",
       "      <td>Nous avons récemment passé quatre nuits dans c...</td>\n",
       "      <td>Nous avons cemment pass quatre nuits dans tabl...</td>\n",
       "    </tr>\n",
       "    <tr>\n",
       "      <th>27313</th>\n",
       "      <td>I stayed at the Wellesley with my wife back in...</td>\n",
       "      <td>stayed Wellesley with wife back June spectacul...</td>\n",
       "    </tr>\n",
       "    <tr>\n",
       "      <th>27314</th>\n",
       "      <td>Stayed here for two nights in Dec 2016. Recept...</td>\n",
       "      <td>Stayed here nights Reception staff especially ...</td>\n",
       "    </tr>\n",
       "    <tr>\n",
       "      <th>27315</th>\n",
       "      <td>I just returned from a week long stay at the R...</td>\n",
       "      <td>just returned from week long stay Ridgemount S...</td>\n",
       "    </tr>\n",
       "    <tr>\n",
       "      <th>27316</th>\n",
       "      <td>I booked this hotel for a concert at the Royal...</td>\n",
       "      <td>booked this hotel concert Royal Albert Hall lo...</td>\n",
       "    </tr>\n",
       "    <tr>\n",
       "      <th>27317</th>\n",
       "      <td>schönes Haus von aussen und im Lobby/bar Berei...</td>\n",
       "      <td>Haus aussen Lobby Bereich Leider nicht ganz in...</td>\n",
       "    </tr>\n",
       "    <tr>\n",
       "      <th>27318</th>\n",
       "      <td>first class in every way. service ,food, ambie...</td>\n",
       "      <td>first class every service food ambience surrou...</td>\n",
       "    </tr>\n",
       "    <tr>\n",
       "      <th>27319</th>\n",
       "      <td>I have recently stayed at this hotel for 4 nig...</td>\n",
       "      <td>have recently stayed this hotel nights busines...</td>\n",
       "    </tr>\n",
       "    <tr>\n",
       "      <th>27320</th>\n",
       "      <td>Quite possibly the nicest hotel room I've ever...</td>\n",
       "      <td>Quite possibly nicest hotel room ever stayed r...</td>\n",
       "    </tr>\n",
       "    <tr>\n",
       "      <th>27321</th>\n",
       "      <td>Recently came here for a friends birthday. We ...</td>\n",
       "      <td>Recently came here friends birthday decided bo...</td>\n",
       "    </tr>\n",
       "    <tr>\n",
       "      <th>27322</th>\n",
       "      <td>Wir haben gerade 4 Tage im The Savoy in London...</td>\n",
       "      <td>haben gerade Tage Savoy London verbracht sind ...</td>\n",
       "    </tr>\n",
       "    <tr>\n",
       "      <th>27323</th>\n",
       "      <td>Io e mio marito, abbiamo passato le vacanze di...</td>\n",
       "      <td>marito abbiamo passato vacanze Natale Londra w...</td>\n",
       "    </tr>\n",
       "    <tr>\n",
       "      <th>27324</th>\n",
       "      <td>Greatly located with lovely views of the park ...</td>\n",
       "      <td>Greatly located with lovely views park city ro...</td>\n",
       "    </tr>\n",
       "    <tr>\n",
       "      <th>27325</th>\n",
       "      <td>I come to London often but since I stayed in t...</td>\n",
       "      <td>come London often since stayed Corinthia alway...</td>\n",
       "    </tr>\n",
       "    <tr>\n",
       "      <th>27326</th>\n",
       "      <td>En cuarto que nos tocó no había toallas y habí...</td>\n",
       "      <td>cuarto toallas charco agua todo tiempo fuga ag...</td>\n",
       "    </tr>\n",
       "    <tr>\n",
       "      <th>27327</th>\n",
       "      <td>This is a quality quiet hotel located in an ex...</td>\n",
       "      <td>This quality quiet hotel located excellent are...</td>\n",
       "    </tr>\n",
       "    <tr>\n",
       "      <th>27328</th>\n",
       "      <td>Väldigt vackra rum, tyvärr med en mycket höglj...</td>\n",
       "      <td>ldigt vackra mycket gljud condtion Barerna res...</td>\n",
       "    </tr>\n",
       "    <tr>\n",
       "      <th>27329</th>\n",
       "      <td>I have been staying in London hotels for 10 ye...</td>\n",
       "      <td>have been staying London hotels years savoy fa...</td>\n",
       "    </tr>\n",
       "  </tbody>\n",
       "</table>\n",
       "<p>26899 rows × 2 columns</p>\n",
       "</div>"
      ],
      "text/plain": [
       "                                             Review_Text  \\\n",
       "0      Siamo stati a Londra per un week end ed abbiam...   \n",
       "1      I had a pleasure of staying in this hotel for ...   \n",
       "2      A very lovely first visit to this iconic hotel...   \n",
       "3      3 of us stayed at the Rhodes Hotel for 4 night...   \n",
       "4      Form the moment we arrived until we left we ex...   \n",
       "5      Well I am no strange to London's 5star hotels ...   \n",
       "6      The hotel staff were very helpful, I booked th...   \n",
       "7      Already stepping out of the taxi you get that ...   \n",
       "8      What an incredibly cool place. Had the most de...   \n",
       "9      Ottimo rapporto qualità - prezzo, ottima la po...   \n",
       "10     The Savoy is The Savoy, every time I came back...   \n",
       "11     The location next to the park and close to Har...   \n",
       "12     was so looking forward to staying here had hig...   \n",
       "13     Just a short stay mainly focussed around the A...   \n",
       "14     The Corinthia is a hotel that I expect when I ...   \n",
       "15     I booked 1 night DBB choosing this hotel as it...   \n",
       "16     Well, what can I say...I chose this venue to p...   \n",
       "17     The Mandarin in London lives up to the five st...   \n",
       "18     We had an amazing time staying at the Mondrian...   \n",
       "19     A nice and stylish hotel with a very impressiv...   \n",
       "20     I had always wanted to stay at The Dorchester....   \n",
       "21     Nice visit but didn't feel special. Upgraded t...   \n",
       "22     Chris and Maria were wonderful hosts. We staye...   \n",
       "23     A 15 mn à pied, 5 en bus (passage fréquent) de...   \n",
       "24     My partner and I found this hotel by chance an...   \n",
       "25     I have just returned from a very quick trip to...   \n",
       "26     It's a family trip by staying at a business di...   \n",
       "27     Nous avons pris l'habitude de descendre dans c...   \n",
       "28     I'm always a little skeptical about what I rea...   \n",
       "29     This was the most wonderful stay. Every little...   \n",
       "...                                                  ...   \n",
       "27300  I arrived in the evening and didn't get a grea...   \n",
       "27301  The Corinthia will always be my favourite Lond...   \n",
       "27302  We had a very enjoyable stay here, using the h...   \n",
       "27303  Words cannot adequately describe how fantastic...   \n",
       "27304  This room was booked by my brother as we atten...   \n",
       "27305  Beautiful room&amp;lobby, amazing concierge, a...   \n",
       "27306  Fabulous hotel, great location and very attent...   \n",
       "27307  My partner took me to this fabulous hotel for ...   \n",
       "27308  Estuvimos 3 noches en el hotel, ya habíamos le...   \n",
       "27309  DO NOT stay here, I would have rather slept in...   \n",
       "27310  My wife and I stayed there for two nights in O...   \n",
       "27311  I went to London and stayed at th Mondrian, wi...   \n",
       "27312  Nous avons récemment passé quatre nuits dans c...   \n",
       "27313  I stayed at the Wellesley with my wife back in...   \n",
       "27314  Stayed here for two nights in Dec 2016. Recept...   \n",
       "27315  I just returned from a week long stay at the R...   \n",
       "27316  I booked this hotel for a concert at the Royal...   \n",
       "27317  schönes Haus von aussen und im Lobby/bar Berei...   \n",
       "27318  first class in every way. service ,food, ambie...   \n",
       "27319  I have recently stayed at this hotel for 4 nig...   \n",
       "27320  Quite possibly the nicest hotel room I've ever...   \n",
       "27321  Recently came here for a friends birthday. We ...   \n",
       "27322  Wir haben gerade 4 Tage im The Savoy in London...   \n",
       "27323  Io e mio marito, abbiamo passato le vacanze di...   \n",
       "27324  Greatly located with lovely views of the park ...   \n",
       "27325  I come to London often but since I stayed in t...   \n",
       "27326  En cuarto que nos tocó no había toallas y habí...   \n",
       "27327  This is a quality quiet hotel located in an ex...   \n",
       "27328  Väldigt vackra rum, tyvärr med en mycket höglj...   \n",
       "27329  I have been staying in London hotels for 10 ye...   \n",
       "\n",
       "                                              Clean_text  \n",
       "0      Siamo stati Londra week abbiamo alloggiato que...  \n",
       "1      pleasure staying this hotel nights recently Th...  \n",
       "2      very lovely first visit this iconic hotel Wond...  \n",
       "3      stayed Rhodes Hotel nights great location taki...  \n",
       "4      Form moment arrived until left experienced abs...  \n",
       "5      Well strange London star hotels when comes alo...  \n",
       "6      hotel staff were very helpful booked wrong hot...  \n",
       "7      Already stepping taxi that very special feelin...  \n",
       "8      What incredibly cool place most delicious inte...  \n",
       "9      Ottimo rapporto qualit prezzo ottima posizione...  \n",
       "10     Savoy Savoy every time came back real surprise...  \n",
       "11     location next park close Harvey Harrods means ...  \n",
       "12     looking forward staying here high expections w...  \n",
       "13     Just short stay mainly focussed around Alain D...  \n",
       "14     Corinthia hotel that expect when read that hot...  \n",
       "15     booked night choosing this hotel close Barbica...  \n",
       "16     Well what chose this venue propose girlfriend ...  \n",
       "17     Mandarin London lives five star rating that de...  \n",
       "18     amazing time staying Mondrian wedding total ro...  \n",
       "19     nice stylish hotel with very impressive lobby ...  \n",
       "20     always wanted stay Dorchester seems grand quin...  \n",
       "21     Nice visit didn feel special Upgraded superior...  \n",
       "22     Chris Maria were wonderful hosts stayed Rhodes...  \n",
       "23     pied passage quent station north acton central...  \n",
       "24     partner found this hotel chance good reviews c...  \n",
       "25     have just returned from very quick trip London...  \n",
       "26     family trip staying business district hotel lo...  \n",
       "27     Nous avons pris habitude descendre dans hotel ...  \n",
       "28     always little skeptical about what read glowin...  \n",
       "29     This most wonderful stay Every little detail a...  \n",
       "...                                                  ...  \n",
       "27300  arrived evening didn great welcome have booked...  \n",
       "27301  Corinthia will always favourite London Hotel r...  \n",
       "27302  very enjoyable stay here using hotel base seei...  \n",
       "27303  Words cannot adequately describe fantastic wee...  \n",
       "27304  This room booked brother attend wembley each y...  \n",
       "27305  Beautiful room lobby amazing concierge best ho...  \n",
       "27306  Fabulous hotel great location very attentive s...  \n",
       "27307  partner took this fabulous hotel birthday what...  \n",
       "27308  Estuvimos noches hotel amos algunas opiniones ...  \n",
       "27309  stay here would have rather slept room dirty s...  \n",
       "27310  wife stayed there nights October great locatio...  \n",
       "27311  went London stayed Mondrian with friend daught...  \n",
       "27312  Nous avons cemment pass quatre nuits dans tabl...  \n",
       "27313  stayed Wellesley with wife back June spectacul...  \n",
       "27314  Stayed here nights Reception staff especially ...  \n",
       "27315  just returned from week long stay Ridgemount S...  \n",
       "27316  booked this hotel concert Royal Albert Hall lo...  \n",
       "27317  Haus aussen Lobby Bereich Leider nicht ganz in...  \n",
       "27318  first class every service food ambience surrou...  \n",
       "27319  have recently stayed this hotel nights busines...  \n",
       "27320  Quite possibly nicest hotel room ever stayed r...  \n",
       "27321  Recently came here friends birthday decided bo...  \n",
       "27322  haben gerade Tage Savoy London verbracht sind ...  \n",
       "27323  marito abbiamo passato vacanze Natale Londra w...  \n",
       "27324  Greatly located with lovely views park city ro...  \n",
       "27325  come London often since stayed Corinthia alway...  \n",
       "27326  cuarto toallas charco agua todo tiempo fuga ag...  \n",
       "27327  This quality quiet hotel located excellent are...  \n",
       "27328  ldigt vackra mycket gljud condtion Barerna res...  \n",
       "27329  have been staying London hotels years savoy fa...  \n",
       "\n",
       "[26899 rows x 2 columns]"
      ]
     },
     "execution_count": 17,
     "metadata": {},
     "output_type": "execute_result"
    }
   ],
   "source": [
    "df.loc[:,('Review_Text','Clean_text')]"
   ]
  },
  {
   "cell_type": "markdown",
   "metadata": {},
   "source": [
    " #### Check to Null or Missing Values present in Review_Test column."
   ]
  },
  {
   "cell_type": "code",
   "execution_count": 18,
   "metadata": {},
   "outputs": [
    {
     "data": {
      "text/html": [
       "<div>\n",
       "<style scoped>\n",
       "    .dataframe tbody tr th:only-of-type {\n",
       "        vertical-align: middle;\n",
       "    }\n",
       "\n",
       "    .dataframe tbody tr th {\n",
       "        vertical-align: top;\n",
       "    }\n",
       "\n",
       "    .dataframe thead th {\n",
       "        text-align: right;\n",
       "    }\n",
       "</style>\n",
       "<table border=\"1\" class=\"dataframe\">\n",
       "  <thead>\n",
       "    <tr style=\"text-align: right;\">\n",
       "      <th></th>\n",
       "      <th>Property_Name</th>\n",
       "      <th>Review_Rating</th>\n",
       "      <th>Review_Title</th>\n",
       "      <th>Review_Text</th>\n",
       "      <th>Location_Of_The_Reviewer</th>\n",
       "      <th>Date_Of_Review</th>\n",
       "      <th>Clean_text</th>\n",
       "    </tr>\n",
       "  </thead>\n",
       "  <tbody>\n",
       "  </tbody>\n",
       "</table>\n",
       "</div>"
      ],
      "text/plain": [
       "Empty DataFrame\n",
       "Columns: [Property_Name, Review_Rating, Review_Title, Review_Text, Location_Of_The_Reviewer, Date_Of_Review, Clean_text]\n",
       "Index: []"
      ]
     },
     "execution_count": 18,
     "metadata": {},
     "output_type": "execute_result"
    }
   ],
   "source": [
    "df[df.Review_Text.isnull()]"
   ]
  },
  {
   "cell_type": "markdown",
   "metadata": {},
   "source": [
    " #### Check to Null or Missing Values present in Review_Test column."
   ]
  },
  {
   "cell_type": "code",
   "execution_count": 19,
   "metadata": {},
   "outputs": [
    {
     "data": {
      "text/html": [
       "<div>\n",
       "<style scoped>\n",
       "    .dataframe tbody tr th:only-of-type {\n",
       "        vertical-align: middle;\n",
       "    }\n",
       "\n",
       "    .dataframe tbody tr th {\n",
       "        vertical-align: top;\n",
       "    }\n",
       "\n",
       "    .dataframe thead th {\n",
       "        text-align: right;\n",
       "    }\n",
       "</style>\n",
       "<table border=\"1\" class=\"dataframe\">\n",
       "  <thead>\n",
       "    <tr style=\"text-align: right;\">\n",
       "      <th></th>\n",
       "      <th>Property_Name</th>\n",
       "      <th>Review_Rating</th>\n",
       "      <th>Review_Title</th>\n",
       "      <th>Review_Text</th>\n",
       "      <th>Location_Of_The_Reviewer</th>\n",
       "      <th>Date_Of_Review</th>\n",
       "      <th>Clean_text</th>\n",
       "    </tr>\n",
       "  </thead>\n",
       "  <tbody>\n",
       "  </tbody>\n",
       "</table>\n",
       "</div>"
      ],
      "text/plain": [
       "Empty DataFrame\n",
       "Columns: [Property_Name, Review_Rating, Review_Title, Review_Text, Location_Of_The_Reviewer, Date_Of_Review, Clean_text]\n",
       "Index: []"
      ]
     },
     "execution_count": 19,
     "metadata": {},
     "output_type": "execute_result"
    }
   ],
   "source": [
    "df[df.Clean_text.isnull()]"
   ]
  },
  {
   "cell_type": "markdown",
   "metadata": {},
   "source": [
    "There is no missing value in the above both columns."
   ]
  },
  {
   "cell_type": "markdown",
   "metadata": {},
   "source": [
    "#### Number of unique Review"
   ]
  },
  {
   "cell_type": "code",
   "execution_count": 20,
   "metadata": {},
   "outputs": [
    {
     "name": "stdout",
     "output_type": "stream",
     "text": [
      "26890\n",
      "26898\n",
      "26899\n"
     ]
    }
   ],
   "source": [
    "unique_clean_text = df.Clean_text.unique()\n",
    "unique_full_text = df.Review_Text.unique()\n",
    "print(len(unique_clean_text))\n",
    "print(len(unique_full_text))\n",
    "print(len(df))\n"
   ]
  },
  {
   "cell_type": "code",
   "execution_count": 21,
   "metadata": {},
   "outputs": [],
   "source": [
    "df.drop_duplicates(subset=['Clean_text'], keep = 'first',inplace= True)"
   ]
  },
  {
   "cell_type": "code",
   "execution_count": 22,
   "metadata": {},
   "outputs": [],
   "source": [
    "df.reset_index(drop=True,inplace=True)"
   ]
  },
  {
   "cell_type": "code",
   "execution_count": 23,
   "metadata": {},
   "outputs": [
    {
     "data": {
      "text/html": [
       "<div>\n",
       "<style scoped>\n",
       "    .dataframe tbody tr th:only-of-type {\n",
       "        vertical-align: middle;\n",
       "    }\n",
       "\n",
       "    .dataframe tbody tr th {\n",
       "        vertical-align: top;\n",
       "    }\n",
       "\n",
       "    .dataframe thead th {\n",
       "        text-align: right;\n",
       "    }\n",
       "</style>\n",
       "<table border=\"1\" class=\"dataframe\">\n",
       "  <thead>\n",
       "    <tr style=\"text-align: right;\">\n",
       "      <th></th>\n",
       "      <th>Property_Name</th>\n",
       "      <th>Review_Rating</th>\n",
       "      <th>Review_Title</th>\n",
       "      <th>Review_Text</th>\n",
       "      <th>Location_Of_The_Reviewer</th>\n",
       "      <th>Date_Of_Review</th>\n",
       "      <th>Clean_text</th>\n",
       "      <th>Clean_text_length</th>\n",
       "    </tr>\n",
       "  </thead>\n",
       "  <tbody>\n",
       "    <tr>\n",
       "      <th>0</th>\n",
       "      <td>Apex London Wall Hotel</td>\n",
       "      <td>5</td>\n",
       "      <td>Ottima qualità prezzo</td>\n",
       "      <td>Siamo stati a Londra per un week end ed abbiam...</td>\n",
       "      <td>Casale Monferrato, Italy</td>\n",
       "      <td>10/20/2012</td>\n",
       "      <td>Siamo stati Londra week abbiamo alloggiato que...</td>\n",
       "      <td>829</td>\n",
       "    </tr>\n",
       "    <tr>\n",
       "      <th>1</th>\n",
       "      <td>Corinthia Hotel London</td>\n",
       "      <td>5</td>\n",
       "      <td>By far, my best hotel in the world</td>\n",
       "      <td>I had a pleasure of staying in this hotel for ...</td>\n",
       "      <td>Savannah, Georgia</td>\n",
       "      <td>3/23/2016</td>\n",
       "      <td>pleasure staying this hotel nights recently Th...</td>\n",
       "      <td>994</td>\n",
       "    </tr>\n",
       "    <tr>\n",
       "      <th>2</th>\n",
       "      <td>The Savoy</td>\n",
       "      <td>5</td>\n",
       "      <td>First visit to the American Bar at the Savoy</td>\n",
       "      <td>A very lovely first visit to this iconic hotel...</td>\n",
       "      <td>London</td>\n",
       "      <td>7/30/2013</td>\n",
       "      <td>very lovely first visit this iconic hotel Wond...</td>\n",
       "      <td>258</td>\n",
       "    </tr>\n",
       "    <tr>\n",
       "      <th>3</th>\n",
       "      <td>Rhodes Hotel</td>\n",
       "      <td>4</td>\n",
       "      <td>Nice stay</td>\n",
       "      <td>3 of us stayed at the Rhodes Hotel for 4 night...</td>\n",
       "      <td>Maui, Hawaii</td>\n",
       "      <td>06-02-2012</td>\n",
       "      <td>stayed Rhodes Hotel nights great location taki...</td>\n",
       "      <td>312</td>\n",
       "    </tr>\n",
       "    <tr>\n",
       "      <th>4</th>\n",
       "      <td>The Savoy</td>\n",
       "      <td>5</td>\n",
       "      <td>Perfection</td>\n",
       "      <td>Form the moment we arrived until we left we ex...</td>\n",
       "      <td>London, United Kingdom</td>\n",
       "      <td>11/24/2017</td>\n",
       "      <td>Form moment arrived until left experienced abs...</td>\n",
       "      <td>272</td>\n",
       "    </tr>\n",
       "  </tbody>\n",
       "</table>\n",
       "</div>"
      ],
      "text/plain": [
       "            Property_Name  Review_Rating  \\\n",
       "0  Apex London Wall Hotel              5   \n",
       "1  Corinthia Hotel London              5   \n",
       "2               The Savoy              5   \n",
       "3            Rhodes Hotel              4   \n",
       "4               The Savoy              5   \n",
       "\n",
       "                                   Review_Title  \\\n",
       "0                         Ottima qualità prezzo   \n",
       "1            By far, my best hotel in the world   \n",
       "2  First visit to the American Bar at the Savoy   \n",
       "3                                     Nice stay   \n",
       "4                                    Perfection   \n",
       "\n",
       "                                         Review_Text  \\\n",
       "0  Siamo stati a Londra per un week end ed abbiam...   \n",
       "1  I had a pleasure of staying in this hotel for ...   \n",
       "2  A very lovely first visit to this iconic hotel...   \n",
       "3  3 of us stayed at the Rhodes Hotel for 4 night...   \n",
       "4  Form the moment we arrived until we left we ex...   \n",
       "\n",
       "   Location_Of_The_Reviewer Date_Of_Review  \\\n",
       "0  Casale Monferrato, Italy     10/20/2012   \n",
       "1         Savannah, Georgia      3/23/2016   \n",
       "2                    London      7/30/2013   \n",
       "3              Maui, Hawaii     06-02-2012   \n",
       "4    London, United Kingdom     11/24/2017   \n",
       "\n",
       "                                          Clean_text  Clean_text_length  \n",
       "0  Siamo stati Londra week abbiamo alloggiato que...                829  \n",
       "1  pleasure staying this hotel nights recently Th...                994  \n",
       "2  very lovely first visit this iconic hotel Wond...                258  \n",
       "3  stayed Rhodes Hotel nights great location taki...                312  \n",
       "4  Form moment arrived until left experienced abs...                272  "
      ]
     },
     "execution_count": 23,
     "metadata": {},
     "output_type": "execute_result"
    }
   ],
   "source": [
    "df['Clean_text_length'] = df['Clean_text'].apply(len)\n",
    "df.head()"
   ]
  },
  {
   "cell_type": "markdown",
   "metadata": {},
   "source": [
    "#### Looks like these are Review with different languages or just hastags.\n"
   ]
  },
  {
   "cell_type": "code",
   "execution_count": 24,
   "metadata": {},
   "outputs": [
    {
     "data": {
      "text/plain": [
       "Int64Index([257], dtype='int64')"
      ]
     },
     "execution_count": 24,
     "metadata": {},
     "output_type": "execute_result"
    }
   ],
   "source": [
    "df[df['Clean_text_length']==0]['Clean_text'] \n",
    "\n",
    "list = df[df['Clean_text_length']==0]['Clean_text'].index\n",
    "list"
   ]
  },
  {
   "cell_type": "markdown",
   "metadata": {},
   "source": [
    "#### We can simply drop these Reviews."
   ]
  },
  {
   "cell_type": "code",
   "execution_count": 25,
   "metadata": {},
   "outputs": [],
   "source": [
    "df.drop(index = list,inplace=True)"
   ]
  },
  {
   "cell_type": "code",
   "execution_count": 26,
   "metadata": {},
   "outputs": [
    {
     "name": "stdout",
     "output_type": "stream",
     "text": [
      "<class 'pandas.core.frame.DataFrame'>\n",
      "Int64Index: 26889 entries, 0 to 26889\n",
      "Data columns (total 8 columns):\n",
      "Property_Name               26889 non-null object\n",
      "Review_Rating               26889 non-null int64\n",
      "Review_Title                26889 non-null object\n",
      "Review_Text                 26889 non-null object\n",
      "Location_Of_The_Reviewer    23054 non-null object\n",
      "Date_Of_Review              26889 non-null object\n",
      "Clean_text                  26889 non-null object\n",
      "Clean_text_length           26889 non-null int64\n",
      "dtypes: int64(2), object(6)\n",
      "memory usage: 1.8+ MB\n"
     ]
    }
   ],
   "source": [
    "df.info()"
   ]
  },
  {
   "cell_type": "code",
   "execution_count": 27,
   "metadata": {},
   "outputs": [
    {
     "name": "stdout",
     "output_type": "stream",
     "text": [
      "<class 'pandas.core.frame.DataFrame'>\n",
      "RangeIndex: 26889 entries, 0 to 26888\n",
      "Data columns (total 8 columns):\n",
      "Property_Name               26889 non-null object\n",
      "Review_Rating               26889 non-null int64\n",
      "Review_Title                26889 non-null object\n",
      "Review_Text                 26889 non-null object\n",
      "Location_Of_The_Reviewer    23054 non-null object\n",
      "Date_Of_Review              26889 non-null object\n",
      "Clean_text                  26889 non-null object\n",
      "Clean_text_length           26889 non-null int64\n",
      "dtypes: int64(2), object(6)\n",
      "memory usage: 1.6+ MB\n"
     ]
    }
   ],
   "source": [
    "df.reset_index(drop=True,inplace=True)\n",
    "df.info()"
   ]
  },
  {
   "cell_type": "markdown",
   "metadata": {},
   "source": [
    "#### Calculate Sentiment Analyser"
   ]
  },
  {
   "cell_type": "code",
   "execution_count": 28,
   "metadata": {},
   "outputs": [],
   "source": [
    "from textblob import TextBlob"
   ]
  },
  {
   "cell_type": "code",
   "execution_count": 29,
   "metadata": {},
   "outputs": [],
   "source": [
    "def calculate_sentiment(Clean_text):\n",
    "    return TextBlob(Clean_text).sentiment"
   ]
  },
  {
   "cell_type": "code",
   "execution_count": 30,
   "metadata": {},
   "outputs": [],
   "source": [
    "def calculate_sentiment_analyser(Clean_text):    \n",
    "    return analyser.polarity_scores(Clean_text)"
   ]
  },
  {
   "cell_type": "code",
   "execution_count": 31,
   "metadata": {
    "scrolled": true
   },
   "outputs": [
    {
     "data": {
      "text/html": [
       "<div>\n",
       "<style scoped>\n",
       "    .dataframe tbody tr th:only-of-type {\n",
       "        vertical-align: middle;\n",
       "    }\n",
       "\n",
       "    .dataframe tbody tr th {\n",
       "        vertical-align: top;\n",
       "    }\n",
       "\n",
       "    .dataframe thead th {\n",
       "        text-align: right;\n",
       "    }\n",
       "</style>\n",
       "<table border=\"1\" class=\"dataframe\">\n",
       "  <thead>\n",
       "    <tr style=\"text-align: right;\">\n",
       "      <th></th>\n",
       "      <th>Property_Name</th>\n",
       "      <th>Review_Rating</th>\n",
       "      <th>Review_Title</th>\n",
       "      <th>Review_Text</th>\n",
       "      <th>Location_Of_The_Reviewer</th>\n",
       "      <th>Date_Of_Review</th>\n",
       "      <th>Clean_text</th>\n",
       "      <th>Clean_text_length</th>\n",
       "      <th>sentiment</th>\n",
       "      <th>sentiment_analyser</th>\n",
       "      <th>compound_score</th>\n",
       "      <th>compound_score_sentiment</th>\n",
       "    </tr>\n",
       "  </thead>\n",
       "  <tbody>\n",
       "    <tr>\n",
       "      <th>0</th>\n",
       "      <td>Apex London Wall Hotel</td>\n",
       "      <td>5</td>\n",
       "      <td>Ottima qualità prezzo</td>\n",
       "      <td>Siamo stati a Londra per un week end ed abbiam...</td>\n",
       "      <td>Casale Monferrato, Italy</td>\n",
       "      <td>10/20/2012</td>\n",
       "      <td>Siamo stati Londra week abbiamo alloggiato que...</td>\n",
       "      <td>829</td>\n",
       "      <td>(0.05833333333333335, 0.45)</td>\n",
       "      <td>{'neg': 0.035, 'neu': 0.948, 'pos': 0.017, 'co...</td>\n",
       "      <td>-0.4404</td>\n",
       "      <td>Negative</td>\n",
       "    </tr>\n",
       "    <tr>\n",
       "      <th>1</th>\n",
       "      <td>Corinthia Hotel London</td>\n",
       "      <td>5</td>\n",
       "      <td>By far, my best hotel in the world</td>\n",
       "      <td>I had a pleasure of staying in this hotel for ...</td>\n",
       "      <td>Savannah, Georgia</td>\n",
       "      <td>3/23/2016</td>\n",
       "      <td>pleasure staying this hotel nights recently Th...</td>\n",
       "      <td>994</td>\n",
       "      <td>(0.2735902255639098, 0.4983709273182957)</td>\n",
       "      <td>{'neg': 0.041, 'neu': 0.826, 'pos': 0.133, 'co...</td>\n",
       "      <td>0.9336</td>\n",
       "      <td>Positive</td>\n",
       "    </tr>\n",
       "    <tr>\n",
       "      <th>2</th>\n",
       "      <td>The Savoy</td>\n",
       "      <td>5</td>\n",
       "      <td>First visit to the American Bar at the Savoy</td>\n",
       "      <td>A very lovely first visit to this iconic hotel...</td>\n",
       "      <td>London</td>\n",
       "      <td>7/30/2013</td>\n",
       "      <td>very lovely first visit this iconic hotel Wond...</td>\n",
       "      <td>258</td>\n",
       "      <td>(0.41818181818181815, 0.6542929292929293)</td>\n",
       "      <td>{'neg': 0.0, 'neu': 0.602, 'pos': 0.398, 'comp...</td>\n",
       "      <td>0.9575</td>\n",
       "      <td>Positive</td>\n",
       "    </tr>\n",
       "    <tr>\n",
       "      <th>3</th>\n",
       "      <td>Rhodes Hotel</td>\n",
       "      <td>4</td>\n",
       "      <td>Nice stay</td>\n",
       "      <td>3 of us stayed at the Rhodes Hotel for 4 night...</td>\n",
       "      <td>Maui, Hawaii</td>\n",
       "      <td>06-02-2012</td>\n",
       "      <td>stayed Rhodes Hotel nights great location taki...</td>\n",
       "      <td>312</td>\n",
       "      <td>(0.3642708333333333, 0.58875)</td>\n",
       "      <td>{'neg': 0.0, 'neu': 0.62, 'pos': 0.38, 'compou...</td>\n",
       "      <td>0.9729</td>\n",
       "      <td>Positive</td>\n",
       "    </tr>\n",
       "    <tr>\n",
       "      <th>4</th>\n",
       "      <td>The Savoy</td>\n",
       "      <td>5</td>\n",
       "      <td>Perfection</td>\n",
       "      <td>Form the moment we arrived until we left we ex...</td>\n",
       "      <td>London, United Kingdom</td>\n",
       "      <td>11/24/2017</td>\n",
       "      <td>Form moment arrived until left experienced abs...</td>\n",
       "      <td>272</td>\n",
       "      <td>(0.4335714285714286, 0.6271428571428571)</td>\n",
       "      <td>{'neg': 0.0, 'neu': 0.65, 'pos': 0.35, 'compou...</td>\n",
       "      <td>0.9531</td>\n",
       "      <td>Positive</td>\n",
       "    </tr>\n",
       "  </tbody>\n",
       "</table>\n",
       "</div>"
      ],
      "text/plain": [
       "            Property_Name  Review_Rating  \\\n",
       "0  Apex London Wall Hotel              5   \n",
       "1  Corinthia Hotel London              5   \n",
       "2               The Savoy              5   \n",
       "3            Rhodes Hotel              4   \n",
       "4               The Savoy              5   \n",
       "\n",
       "                                   Review_Title  \\\n",
       "0                         Ottima qualità prezzo   \n",
       "1            By far, my best hotel in the world   \n",
       "2  First visit to the American Bar at the Savoy   \n",
       "3                                     Nice stay   \n",
       "4                                    Perfection   \n",
       "\n",
       "                                         Review_Text  \\\n",
       "0  Siamo stati a Londra per un week end ed abbiam...   \n",
       "1  I had a pleasure of staying in this hotel for ...   \n",
       "2  A very lovely first visit to this iconic hotel...   \n",
       "3  3 of us stayed at the Rhodes Hotel for 4 night...   \n",
       "4  Form the moment we arrived until we left we ex...   \n",
       "\n",
       "   Location_Of_The_Reviewer Date_Of_Review  \\\n",
       "0  Casale Monferrato, Italy     10/20/2012   \n",
       "1         Savannah, Georgia      3/23/2016   \n",
       "2                    London      7/30/2013   \n",
       "3              Maui, Hawaii     06-02-2012   \n",
       "4    London, United Kingdom     11/24/2017   \n",
       "\n",
       "                                          Clean_text  Clean_text_length  \\\n",
       "0  Siamo stati Londra week abbiamo alloggiato que...                829   \n",
       "1  pleasure staying this hotel nights recently Th...                994   \n",
       "2  very lovely first visit this iconic hotel Wond...                258   \n",
       "3  stayed Rhodes Hotel nights great location taki...                312   \n",
       "4  Form moment arrived until left experienced abs...                272   \n",
       "\n",
       "                                   sentiment  \\\n",
       "0                (0.05833333333333335, 0.45)   \n",
       "1   (0.2735902255639098, 0.4983709273182957)   \n",
       "2  (0.41818181818181815, 0.6542929292929293)   \n",
       "3              (0.3642708333333333, 0.58875)   \n",
       "4   (0.4335714285714286, 0.6271428571428571)   \n",
       "\n",
       "                                  sentiment_analyser compound_score  \\\n",
       "0  {'neg': 0.035, 'neu': 0.948, 'pos': 0.017, 'co...        -0.4404   \n",
       "1  {'neg': 0.041, 'neu': 0.826, 'pos': 0.133, 'co...         0.9336   \n",
       "2  {'neg': 0.0, 'neu': 0.602, 'pos': 0.398, 'comp...         0.9575   \n",
       "3  {'neg': 0.0, 'neu': 0.62, 'pos': 0.38, 'compou...         0.9729   \n",
       "4  {'neg': 0.0, 'neu': 0.65, 'pos': 0.35, 'compou...         0.9531   \n",
       "\n",
       "  compound_score_sentiment  \n",
       "0                 Negative  \n",
       "1                 Positive  \n",
       "2                 Positive  \n",
       "3                 Positive  \n",
       "4                 Positive  "
      ]
     },
     "execution_count": 31,
     "metadata": {},
     "output_type": "execute_result"
    }
   ],
   "source": [
    "df['sentiment']=df.Clean_text.apply(calculate_sentiment)\n",
    "df['sentiment_analyser']=df.Clean_text.apply(calculate_sentiment_analyser)\n",
    "s = pd.DataFrame(index = range(0,len(df)),columns= ['compound_score','compound_score_sentiment'])\n",
    "for i in range(0,len(df)): \n",
    "  s['compound_score'][i] = df['sentiment_analyser'][i]['compound']\n",
    "  \n",
    "  if (df['sentiment_analyser'][i]['compound'] <= -0.05):\n",
    "    s['compound_score_sentiment'][i] = 'Negative'    \n",
    "  if (df['sentiment_analyser'][i]['compound'] >= 0.05):\n",
    "    s['compound_score_sentiment'][i] = 'Positive'\n",
    "  if ((df['sentiment_analyser'][i]['compound'] >= -0.05) & (df['sentiment_analyser'][i]['compound'] <= 0.05)):\n",
    "    s['compound_score_sentiment'][i] = 'Neutral'\n",
    "    \n",
    "df['compound_score'] = s['compound_score']\n",
    "df['compound_score_sentiment'] = s['compound_score_sentiment']\n",
    "df.head()"
   ]
  },
  {
   "cell_type": "markdown",
   "metadata": {},
   "source": [
    "#### Export the data with sentiment."
   ]
  },
  {
   "cell_type": "code",
   "execution_count": 32,
   "metadata": {},
   "outputs": [],
   "source": [
    "df.to_csv('E:\\Work From Home\\Text mining project.csv')"
   ]
  },
  {
   "cell_type": "markdown",
   "metadata": {},
   "source": [
    "#### Sentiment Score with Positive, Neutral and Negative."
   ]
  },
  {
   "cell_type": "code",
   "execution_count": 33,
   "metadata": {},
   "outputs": [
    {
     "name": "stdout",
     "output_type": "stream",
     "text": [
      "6.0\n",
      "4.0\n"
     ]
    }
   ],
   "source": [
    "plot_size=plt.rcParams[\"figure.figsize\"]\n",
    "print(plot_size[0])\n",
    "print(plot_size[1])\n",
    "\n",
    "plot_size[0]=8\n",
    "plot_size[1]=6\n",
    "plot_size=plt.rcParams[\"figure.figsize\"]"
   ]
  },
  {
   "cell_type": "code",
   "execution_count": 34,
   "metadata": {},
   "outputs": [
    {
     "data": {
      "text/plain": [
       "Positive    23960\n",
       "Neutral      1997\n",
       "Negative      932\n",
       "Name: compound_score_sentiment, dtype: int64"
      ]
     },
     "execution_count": 34,
     "metadata": {},
     "output_type": "execute_result"
    }
   ],
   "source": [
    "df.compound_score_sentiment.value_counts()"
   ]
  },
  {
   "cell_type": "code",
   "execution_count": 35,
   "metadata": {},
   "outputs": [
    {
     "data": {
      "text/plain": [
       "<matplotlib.axes._subplots.AxesSubplot at 0x1e6423ace80>"
      ]
     },
     "execution_count": 35,
     "metadata": {},
     "output_type": "execute_result"
    },
    {
     "data": {
      "image/png": "[encoded data removed]",
      "text/plain": [
       "<Figure size 576x432 with 1 Axes>"
      ]
     },
     "metadata": {},
     "output_type": "display_data"
    }
   ],
   "source": [
    "df.compound_score_sentiment.value_counts().plot(kind='pie',autopct='%1.0f%%')"
   ]
  },
  {
   "cell_type": "markdown",
   "metadata": {},
   "source": [
    "We can see the above pie chart the mostly review text 89% positive sentiment, second neutral is 7% and 3% negative sentiment of London restaurants review."
   ]
  },
  {
   "cell_type": "code",
   "execution_count": 36,
   "metadata": {},
   "outputs": [
    {
     "data": {
      "text/plain": [
       "0    Siamo stati Londra week abbiamo alloggiato que...\n",
       "1    pleasure staying this hotel nights recently Th...\n",
       "2    very lovely first visit this iconic hotel Wond...\n",
       "3    stayed Rhodes Hotel nights great location taki...\n",
       "4    Form moment arrived until left experienced abs...\n",
       "Name: Clean_text, dtype: object"
      ]
     },
     "execution_count": 36,
     "metadata": {},
     "output_type": "execute_result"
    }
   ],
   "source": [
    "df['Clean_text'].head()"
   ]
  },
  {
   "cell_type": "markdown",
   "metadata": {},
   "source": [
    "#### TF-IDE"
   ]
  },
  {
   "cell_type": "code",
   "execution_count": 37,
   "metadata": {},
   "outputs": [],
   "source": [
    "from sklearn.cluster import KMeans"
   ]
  },
  {
   "cell_type": "code",
   "execution_count": 38,
   "metadata": {},
   "outputs": [],
   "source": [
    "from sklearn.feature_extraction.text import TfidfVectorizer, CountVectorizer\n",
    "# Considering 3 grams and mimnimum frq as 0\n",
    "tf_idf_vect = CountVectorizer(analyzer='word',ngram_range=(1,1),stop_words='english', min_df = 0.0001)\n",
    "tf_idf_vect.fit(df['Clean_text'])\n",
    "desc_matrix = tf_idf_vect.transform(df[\"Clean_text\"])"
   ]
  },
  {
   "cell_type": "markdown",
   "metadata": {},
   "source": [
    "## Implement kmeans"
   ]
  },
  {
   "cell_type": "code",
   "execution_count": 39,
   "metadata": {},
   "outputs": [],
   "source": [
    "from sklearn.cluster import KMeans\n",
    "num_clusters = 3\n",
    "km = KMeans(n_clusters=num_clusters)\n",
    "km.fit(desc_matrix)\n",
    "clusters = km.labels_.tolist()"
   ]
  },
  {
   "cell_type": "markdown",
   "metadata": {},
   "source": [
    "#### Create DataFrame films from all of the input files."
   ]
  },
  {
   "cell_type": "code",
   "execution_count": 40,
   "metadata": {},
   "outputs": [
    {
     "data": {
      "text/html": [
       "<div>\n",
       "<style scoped>\n",
       "    .dataframe tbody tr th:only-of-type {\n",
       "        vertical-align: middle;\n",
       "    }\n",
       "\n",
       "    .dataframe tbody tr th {\n",
       "        vertical-align: top;\n",
       "    }\n",
       "\n",
       "    .dataframe thead th {\n",
       "        text-align: right;\n",
       "    }\n",
       "</style>\n",
       "<table border=\"1\" class=\"dataframe\">\n",
       "  <thead>\n",
       "    <tr style=\"text-align: right;\">\n",
       "      <th></th>\n",
       "      <th>Review</th>\n",
       "      <th>Cluster</th>\n",
       "    </tr>\n",
       "  </thead>\n",
       "  <tbody>\n",
       "    <tr>\n",
       "      <th>1</th>\n",
       "      <td>Siamo stati Londra week abbiamo alloggiato que...</td>\n",
       "      <td>1</td>\n",
       "    </tr>\n",
       "    <tr>\n",
       "      <th>2</th>\n",
       "      <td>pleasure staying this hotel nights recently Th...</td>\n",
       "      <td>2</td>\n",
       "    </tr>\n",
       "    <tr>\n",
       "      <th>1</th>\n",
       "      <td>very lovely first visit this iconic hotel Wond...</td>\n",
       "      <td>1</td>\n",
       "    </tr>\n",
       "    <tr>\n",
       "      <th>1</th>\n",
       "      <td>stayed Rhodes Hotel nights great location taki...</td>\n",
       "      <td>1</td>\n",
       "    </tr>\n",
       "    <tr>\n",
       "      <th>1</th>\n",
       "      <td>Form moment arrived until left experienced abs...</td>\n",
       "      <td>1</td>\n",
       "    </tr>\n",
       "  </tbody>\n",
       "</table>\n",
       "</div>"
      ],
      "text/plain": [
       "                                              Review  Cluster\n",
       "1  Siamo stati Londra week abbiamo alloggiato que...        1\n",
       "2  pleasure staying this hotel nights recently Th...        2\n",
       "1  very lovely first visit this iconic hotel Wond...        1\n",
       "1  stayed Rhodes Hotel nights great location taki...        1\n",
       "1  Form moment arrived until left experienced abs...        1"
      ]
     },
     "execution_count": 40,
     "metadata": {},
     "output_type": "execute_result"
    }
   ],
   "source": [
    "Review = {'Review': df[\"Clean_text\"].tolist(), 'Cluster': clusters}\n",
    "frame = pd.DataFrame(Review, index = [clusters])\n",
    "frame.head()"
   ]
  },
  {
   "cell_type": "markdown",
   "metadata": {},
   "source": [
    "#### Value Count with individual Cluster."
   ]
  },
  {
   "cell_type": "code",
   "execution_count": 41,
   "metadata": {},
   "outputs": [
    {
     "data": {
      "text/plain": [
       "1    18282\n",
       "2     7556\n",
       "0     1051\n",
       "Name: Cluster, dtype: int64"
      ]
     },
     "execution_count": 41,
     "metadata": {},
     "output_type": "execute_result"
    }
   ],
   "source": [
    "frame['Cluster'].value_counts()"
   ]
  },
  {
   "cell_type": "code",
   "execution_count": 42,
   "metadata": {
    "scrolled": true
   },
   "outputs": [
    {
     "data": {
      "text/plain": [
       "<matplotlib.axes._subplots.AxesSubplot at 0x1e65ab36828>"
      ]
     },
     "execution_count": 42,
     "metadata": {},
     "output_type": "execute_result"
    },
    {
     "data": {
      "image/png": "[encoded data removed]",
      "text/plain": [
       "<Figure size 576x432 with 1 Axes>"
      ]
     },
     "metadata": {},
     "output_type": "display_data"
    }
   ],
   "source": [
    "frame.Cluster.value_counts().plot(kind='pie',autopct='%1.0f%%')"
   ]
  },
  {
   "cell_type": "markdown",
   "metadata": {},
   "source": []
  },
  {
   "cell_type": "code",
   "execution_count": 43,
   "metadata": {},
   "outputs": [
    {
     "data": {
      "text/html": [
       "<div>\n",
       "<style scoped>\n",
       "    .dataframe tbody tr th:only-of-type {\n",
       "        vertical-align: middle;\n",
       "    }\n",
       "\n",
       "    .dataframe tbody tr th {\n",
       "        vertical-align: top;\n",
       "    }\n",
       "\n",
       "    .dataframe thead th {\n",
       "        text-align: right;\n",
       "    }\n",
       "</style>\n",
       "<table border=\"1\" class=\"dataframe\">\n",
       "  <thead>\n",
       "    <tr style=\"text-align: right;\">\n",
       "      <th></th>\n",
       "      <th>Review</th>\n",
       "      <th>Cluster</th>\n",
       "    </tr>\n",
       "  </thead>\n",
       "  <tbody>\n",
       "    <tr>\n",
       "      <th>1</th>\n",
       "      <td>Siamo stati Londra week abbiamo alloggiato que...</td>\n",
       "      <td>1</td>\n",
       "    </tr>\n",
       "    <tr>\n",
       "      <th>1</th>\n",
       "      <td>very lovely first visit this iconic hotel Wond...</td>\n",
       "      <td>1</td>\n",
       "    </tr>\n",
       "    <tr>\n",
       "      <th>1</th>\n",
       "      <td>stayed Rhodes Hotel nights great location taki...</td>\n",
       "      <td>1</td>\n",
       "    </tr>\n",
       "    <tr>\n",
       "      <th>1</th>\n",
       "      <td>Form moment arrived until left experienced abs...</td>\n",
       "      <td>1</td>\n",
       "    </tr>\n",
       "    <tr>\n",
       "      <th>1</th>\n",
       "      <td>hotel staff were very helpful booked wrong hot...</td>\n",
       "      <td>1</td>\n",
       "    </tr>\n",
       "    <tr>\n",
       "      <th>1</th>\n",
       "      <td>Already stepping taxi that very special feelin...</td>\n",
       "      <td>1</td>\n",
       "    </tr>\n",
       "    <tr>\n",
       "      <th>1</th>\n",
       "      <td>What incredibly cool place most delicious inte...</td>\n",
       "      <td>1</td>\n",
       "    </tr>\n",
       "    <tr>\n",
       "      <th>1</th>\n",
       "      <td>Ottimo rapporto qualit prezzo ottima posizione...</td>\n",
       "      <td>1</td>\n",
       "    </tr>\n",
       "    <tr>\n",
       "      <th>1</th>\n",
       "      <td>Savoy Savoy every time came back real surprise...</td>\n",
       "      <td>1</td>\n",
       "    </tr>\n",
       "    <tr>\n",
       "      <th>1</th>\n",
       "      <td>looking forward staying here high expections w...</td>\n",
       "      <td>1</td>\n",
       "    </tr>\n",
       "    <tr>\n",
       "      <th>1</th>\n",
       "      <td>Just short stay mainly focussed around Alain D...</td>\n",
       "      <td>1</td>\n",
       "    </tr>\n",
       "    <tr>\n",
       "      <th>1</th>\n",
       "      <td>Corinthia hotel that expect when read that hot...</td>\n",
       "      <td>1</td>\n",
       "    </tr>\n",
       "    <tr>\n",
       "      <th>1</th>\n",
       "      <td>amazing time staying Mondrian wedding total ro...</td>\n",
       "      <td>1</td>\n",
       "    </tr>\n",
       "    <tr>\n",
       "      <th>1</th>\n",
       "      <td>nice stylish hotel with very impressive lobby ...</td>\n",
       "      <td>1</td>\n",
       "    </tr>\n",
       "    <tr>\n",
       "      <th>1</th>\n",
       "      <td>Chris Maria were wonderful hosts stayed Rhodes...</td>\n",
       "      <td>1</td>\n",
       "    </tr>\n",
       "    <tr>\n",
       "      <th>1</th>\n",
       "      <td>pied passage quent station north acton central...</td>\n",
       "      <td>1</td>\n",
       "    </tr>\n",
       "    <tr>\n",
       "      <th>1</th>\n",
       "      <td>family trip staying business district hotel lo...</td>\n",
       "      <td>1</td>\n",
       "    </tr>\n",
       "    <tr>\n",
       "      <th>1</th>\n",
       "      <td>Nous avons pris habitude descendre dans hotel ...</td>\n",
       "      <td>1</td>\n",
       "    </tr>\n",
       "    <tr>\n",
       "      <th>1</th>\n",
       "      <td>This most wonderful stay Every little detail a...</td>\n",
       "      <td>1</td>\n",
       "    </tr>\n",
       "    <tr>\n",
       "      <th>1</th>\n",
       "      <td>mandarin oriental hyde park pretty much everyt...</td>\n",
       "      <td>1</td>\n",
       "    </tr>\n",
       "    <tr>\n",
       "      <th>1</th>\n",
       "      <td>best ever really think have arrived Great dini...</td>\n",
       "      <td>1</td>\n",
       "    </tr>\n",
       "    <tr>\n",
       "      <th>1</th>\n",
       "      <td>This really just provide another star rating t...</td>\n",
       "      <td>1</td>\n",
       "    </tr>\n",
       "    <tr>\n",
       "      <th>1</th>\n",
       "      <td>After amazing experience first time stayed wen...</td>\n",
       "      <td>1</td>\n",
       "    </tr>\n",
       "    <tr>\n",
       "      <th>1</th>\n",
       "      <td>Took here treat weekend March what treat both ...</td>\n",
       "      <td>1</td>\n",
       "    </tr>\n",
       "    <tr>\n",
       "      <th>1</th>\n",
       "      <td>Very good hotel lovely area Handy tube Harrods...</td>\n",
       "      <td>1</td>\n",
       "    </tr>\n",
       "    <tr>\n",
       "      <th>1</th>\n",
       "      <td>waren Rahmen einer dtereise bernachtungen Gast...</td>\n",
       "      <td>1</td>\n",
       "    </tr>\n",
       "    <tr>\n",
       "      <th>1</th>\n",
       "      <td>weekend Savoy what more could mother special b...</td>\n",
       "      <td>1</td>\n",
       "    </tr>\n",
       "    <tr>\n",
       "      <th>1</th>\n",
       "      <td>Very good hotel when travelling business Staff...</td>\n",
       "      <td>1</td>\n",
       "    </tr>\n",
       "    <tr>\n",
       "      <th>1</th>\n",
       "      <td>good stay here host great help every aspect th...</td>\n",
       "      <td>1</td>\n",
       "    </tr>\n",
       "    <tr>\n",
       "      <th>1</th>\n",
       "      <td>Based Mondrian days business rooms were excell...</td>\n",
       "      <td>1</td>\n",
       "    </tr>\n",
       "    <tr>\n",
       "      <th>...</th>\n",
       "      <td>...</td>\n",
       "      <td>...</td>\n",
       "    </tr>\n",
       "    <tr>\n",
       "      <th>1</th>\n",
       "      <td>stayed here twice always recommend friends pla...</td>\n",
       "      <td>1</td>\n",
       "    </tr>\n",
       "    <tr>\n",
       "      <th>1</th>\n",
       "      <td>Rembrandt utmerket hotell London Meget sentral...</td>\n",
       "      <td>1</td>\n",
       "    </tr>\n",
       "    <tr>\n",
       "      <th>1</th>\n",
       "      <td>This small charming hotel located front Royal ...</td>\n",
       "      <td>1</td>\n",
       "    </tr>\n",
       "    <tr>\n",
       "      <th>1</th>\n",
       "      <td>Nice recently refurbished modern hotel cocktai...</td>\n",
       "      <td>1</td>\n",
       "    </tr>\n",
       "    <tr>\n",
       "      <th>1</th>\n",
       "      <td>Less than minutes from Moorgate tube which ser...</td>\n",
       "      <td>1</td>\n",
       "    </tr>\n",
       "    <tr>\n",
       "      <th>1</th>\n",
       "      <td>Excelente estadia Funcion rios muito atencioso...</td>\n",
       "      <td>1</td>\n",
       "    </tr>\n",
       "    <tr>\n",
       "      <th>1</th>\n",
       "      <td>very enjoyable stay here using hotel base seei...</td>\n",
       "      <td>1</td>\n",
       "    </tr>\n",
       "    <tr>\n",
       "      <th>1</th>\n",
       "      <td>This room booked brother attend wembley each y...</td>\n",
       "      <td>1</td>\n",
       "    </tr>\n",
       "    <tr>\n",
       "      <th>1</th>\n",
       "      <td>Beautiful room lobby amazing concierge best ho...</td>\n",
       "      <td>1</td>\n",
       "    </tr>\n",
       "    <tr>\n",
       "      <th>1</th>\n",
       "      <td>Fabulous hotel great location very attentive s...</td>\n",
       "      <td>1</td>\n",
       "    </tr>\n",
       "    <tr>\n",
       "      <th>1</th>\n",
       "      <td>partner took this fabulous hotel birthday what...</td>\n",
       "      <td>1</td>\n",
       "    </tr>\n",
       "    <tr>\n",
       "      <th>1</th>\n",
       "      <td>Estuvimos noches hotel amos algunas opiniones ...</td>\n",
       "      <td>1</td>\n",
       "    </tr>\n",
       "    <tr>\n",
       "      <th>1</th>\n",
       "      <td>stay here would have rather slept room dirty s...</td>\n",
       "      <td>1</td>\n",
       "    </tr>\n",
       "    <tr>\n",
       "      <th>1</th>\n",
       "      <td>wife stayed there nights October great locatio...</td>\n",
       "      <td>1</td>\n",
       "    </tr>\n",
       "    <tr>\n",
       "      <th>1</th>\n",
       "      <td>went London stayed Mondrian with friend daught...</td>\n",
       "      <td>1</td>\n",
       "    </tr>\n",
       "    <tr>\n",
       "      <th>1</th>\n",
       "      <td>Nous avons cemment pass quatre nuits dans tabl...</td>\n",
       "      <td>1</td>\n",
       "    </tr>\n",
       "    <tr>\n",
       "      <th>1</th>\n",
       "      <td>stayed Wellesley with wife back June spectacul...</td>\n",
       "      <td>1</td>\n",
       "    </tr>\n",
       "    <tr>\n",
       "      <th>1</th>\n",
       "      <td>Stayed here nights Reception staff especially ...</td>\n",
       "      <td>1</td>\n",
       "    </tr>\n",
       "    <tr>\n",
       "      <th>1</th>\n",
       "      <td>Haus aussen Lobby Bereich Leider nicht ganz in...</td>\n",
       "      <td>1</td>\n",
       "    </tr>\n",
       "    <tr>\n",
       "      <th>1</th>\n",
       "      <td>first class every service food ambience surrou...</td>\n",
       "      <td>1</td>\n",
       "    </tr>\n",
       "    <tr>\n",
       "      <th>1</th>\n",
       "      <td>have recently stayed this hotel nights busines...</td>\n",
       "      <td>1</td>\n",
       "    </tr>\n",
       "    <tr>\n",
       "      <th>1</th>\n",
       "      <td>Recently came here friends birthday decided bo...</td>\n",
       "      <td>1</td>\n",
       "    </tr>\n",
       "    <tr>\n",
       "      <th>1</th>\n",
       "      <td>haben gerade Tage Savoy London verbracht sind ...</td>\n",
       "      <td>1</td>\n",
       "    </tr>\n",
       "    <tr>\n",
       "      <th>1</th>\n",
       "      <td>marito abbiamo passato vacanze Natale Londra w...</td>\n",
       "      <td>1</td>\n",
       "    </tr>\n",
       "    <tr>\n",
       "      <th>1</th>\n",
       "      <td>Greatly located with lovely views park city ro...</td>\n",
       "      <td>1</td>\n",
       "    </tr>\n",
       "    <tr>\n",
       "      <th>1</th>\n",
       "      <td>come London often since stayed Corinthia alway...</td>\n",
       "      <td>1</td>\n",
       "    </tr>\n",
       "    <tr>\n",
       "      <th>1</th>\n",
       "      <td>cuarto toallas charco agua todo tiempo fuga ag...</td>\n",
       "      <td>1</td>\n",
       "    </tr>\n",
       "    <tr>\n",
       "      <th>1</th>\n",
       "      <td>This quality quiet hotel located excellent are...</td>\n",
       "      <td>1</td>\n",
       "    </tr>\n",
       "    <tr>\n",
       "      <th>1</th>\n",
       "      <td>ldigt vackra mycket gljud condtion Barerna res...</td>\n",
       "      <td>1</td>\n",
       "    </tr>\n",
       "    <tr>\n",
       "      <th>1</th>\n",
       "      <td>have been staying London hotels years savoy fa...</td>\n",
       "      <td>1</td>\n",
       "    </tr>\n",
       "  </tbody>\n",
       "</table>\n",
       "<p>18282 rows × 2 columns</p>\n",
       "</div>"
      ],
      "text/plain": [
       "                                               Review  Cluster\n",
       "1   Siamo stati Londra week abbiamo alloggiato que...        1\n",
       "1   very lovely first visit this iconic hotel Wond...        1\n",
       "1   stayed Rhodes Hotel nights great location taki...        1\n",
       "1   Form moment arrived until left experienced abs...        1\n",
       "1   hotel staff were very helpful booked wrong hot...        1\n",
       "1   Already stepping taxi that very special feelin...        1\n",
       "1   What incredibly cool place most delicious inte...        1\n",
       "1   Ottimo rapporto qualit prezzo ottima posizione...        1\n",
       "1   Savoy Savoy every time came back real surprise...        1\n",
       "1   looking forward staying here high expections w...        1\n",
       "1   Just short stay mainly focussed around Alain D...        1\n",
       "1   Corinthia hotel that expect when read that hot...        1\n",
       "1   amazing time staying Mondrian wedding total ro...        1\n",
       "1   nice stylish hotel with very impressive lobby ...        1\n",
       "1   Chris Maria were wonderful hosts stayed Rhodes...        1\n",
       "1   pied passage quent station north acton central...        1\n",
       "1   family trip staying business district hotel lo...        1\n",
       "1   Nous avons pris habitude descendre dans hotel ...        1\n",
       "1   This most wonderful stay Every little detail a...        1\n",
       "1   mandarin oriental hyde park pretty much everyt...        1\n",
       "1   best ever really think have arrived Great dini...        1\n",
       "1   This really just provide another star rating t...        1\n",
       "1   After amazing experience first time stayed wen...        1\n",
       "1   Took here treat weekend March what treat both ...        1\n",
       "1   Very good hotel lovely area Handy tube Harrods...        1\n",
       "1   waren Rahmen einer dtereise bernachtungen Gast...        1\n",
       "1   weekend Savoy what more could mother special b...        1\n",
       "1   Very good hotel when travelling business Staff...        1\n",
       "1   good stay here host great help every aspect th...        1\n",
       "1   Based Mondrian days business rooms were excell...        1\n",
       "..                                                ...      ...\n",
       "1   stayed here twice always recommend friends pla...        1\n",
       "1   Rembrandt utmerket hotell London Meget sentral...        1\n",
       "1   This small charming hotel located front Royal ...        1\n",
       "1   Nice recently refurbished modern hotel cocktai...        1\n",
       "1   Less than minutes from Moorgate tube which ser...        1\n",
       "1   Excelente estadia Funcion rios muito atencioso...        1\n",
       "1   very enjoyable stay here using hotel base seei...        1\n",
       "1   This room booked brother attend wembley each y...        1\n",
       "1   Beautiful room lobby amazing concierge best ho...        1\n",
       "1   Fabulous hotel great location very attentive s...        1\n",
       "1   partner took this fabulous hotel birthday what...        1\n",
       "1   Estuvimos noches hotel amos algunas opiniones ...        1\n",
       "1   stay here would have rather slept room dirty s...        1\n",
       "1   wife stayed there nights October great locatio...        1\n",
       "1   went London stayed Mondrian with friend daught...        1\n",
       "1   Nous avons cemment pass quatre nuits dans tabl...        1\n",
       "1   stayed Wellesley with wife back June spectacul...        1\n",
       "1   Stayed here nights Reception staff especially ...        1\n",
       "1   Haus aussen Lobby Bereich Leider nicht ganz in...        1\n",
       "1   first class every service food ambience surrou...        1\n",
       "1   have recently stayed this hotel nights busines...        1\n",
       "1   Recently came here friends birthday decided bo...        1\n",
       "1   haben gerade Tage Savoy London verbracht sind ...        1\n",
       "1   marito abbiamo passato vacanze Natale Londra w...        1\n",
       "1   Greatly located with lovely views park city ro...        1\n",
       "1   come London often since stayed Corinthia alway...        1\n",
       "1   cuarto toallas charco agua todo tiempo fuga ag...        1\n",
       "1   This quality quiet hotel located excellent are...        1\n",
       "1   ldigt vackra mycket gljud condtion Barerna res...        1\n",
       "1   have been staying London hotels years savoy fa...        1\n",
       "\n",
       "[18282 rows x 2 columns]"
      ]
     },
     "execution_count": 43,
     "metadata": {},
     "output_type": "execute_result"
    }
   ],
   "source": [
    "frame[frame['Cluster'] == 1]"
   ]
  },
  {
   "cell_type": "code",
   "execution_count": 44,
   "metadata": {},
   "outputs": [
    {
     "data": {
      "text/html": [
       "<div>\n",
       "<style scoped>\n",
       "    .dataframe tbody tr th:only-of-type {\n",
       "        vertical-align: middle;\n",
       "    }\n",
       "\n",
       "    .dataframe tbody tr th {\n",
       "        vertical-align: top;\n",
       "    }\n",
       "\n",
       "    .dataframe thead th {\n",
       "        text-align: right;\n",
       "    }\n",
       "</style>\n",
       "<table border=\"1\" class=\"dataframe\">\n",
       "  <thead>\n",
       "    <tr style=\"text-align: right;\">\n",
       "      <th></th>\n",
       "      <th>Review</th>\n",
       "      <th>Cluster</th>\n",
       "    </tr>\n",
       "  </thead>\n",
       "  <tbody>\n",
       "    <tr>\n",
       "      <th>2</th>\n",
       "      <td>pleasure staying this hotel nights recently Th...</td>\n",
       "      <td>2</td>\n",
       "    </tr>\n",
       "    <tr>\n",
       "      <th>2</th>\n",
       "      <td>Well strange London star hotels when comes alo...</td>\n",
       "      <td>2</td>\n",
       "    </tr>\n",
       "    <tr>\n",
       "      <th>2</th>\n",
       "      <td>location next park close Harvey Harrods means ...</td>\n",
       "      <td>2</td>\n",
       "    </tr>\n",
       "    <tr>\n",
       "      <th>2</th>\n",
       "      <td>booked night choosing this hotel close Barbica...</td>\n",
       "      <td>2</td>\n",
       "    </tr>\n",
       "    <tr>\n",
       "      <th>2</th>\n",
       "      <td>Well what chose this venue propose girlfriend ...</td>\n",
       "      <td>2</td>\n",
       "    </tr>\n",
       "    <tr>\n",
       "      <th>2</th>\n",
       "      <td>Mandarin London lives five star rating that de...</td>\n",
       "      <td>2</td>\n",
       "    </tr>\n",
       "    <tr>\n",
       "      <th>2</th>\n",
       "      <td>Nice visit didn feel special Upgraded superior...</td>\n",
       "      <td>2</td>\n",
       "    </tr>\n",
       "    <tr>\n",
       "      <th>2</th>\n",
       "      <td>partner found this hotel chance good reviews c...</td>\n",
       "      <td>2</td>\n",
       "    </tr>\n",
       "    <tr>\n",
       "      <th>2</th>\n",
       "      <td>have just returned from very quick trip London...</td>\n",
       "      <td>2</td>\n",
       "    </tr>\n",
       "    <tr>\n",
       "      <th>2</th>\n",
       "      <td>always little skeptical about what read glowin...</td>\n",
       "      <td>2</td>\n",
       "    </tr>\n",
       "    <tr>\n",
       "      <th>2</th>\n",
       "      <td>Lovely furnishings amenities service However w...</td>\n",
       "      <td>2</td>\n",
       "    </tr>\n",
       "    <tr>\n",
       "      <th>2</th>\n",
       "      <td>Just came back from marvelous stay Mandarin Or...</td>\n",
       "      <td>2</td>\n",
       "    </tr>\n",
       "    <tr>\n",
       "      <th>2</th>\n",
       "      <td>Have stayed many times before keep coming back...</td>\n",
       "      <td>2</td>\n",
       "    </tr>\n",
       "    <tr>\n",
       "      <th>2</th>\n",
       "      <td>Having tried Dorchester hotel Paris very satis...</td>\n",
       "      <td>2</td>\n",
       "    </tr>\n",
       "    <tr>\n",
       "      <th>2</th>\n",
       "      <td>Very modern hotel garish feared Superb views f...</td>\n",
       "      <td>2</td>\n",
       "    </tr>\n",
       "    <tr>\n",
       "      <th>2</th>\n",
       "      <td>Very nice hotel good location stayed Saturday ...</td>\n",
       "      <td>2</td>\n",
       "    </tr>\n",
       "    <tr>\n",
       "      <th>2</th>\n",
       "      <td>husband booked South Bank Sunday package which...</td>\n",
       "      <td>2</td>\n",
       "    </tr>\n",
       "    <tr>\n",
       "      <th>2</th>\n",
       "      <td>fabulous hotel fantastic location directly nex...</td>\n",
       "      <td>2</td>\n",
       "    </tr>\n",
       "    <tr>\n",
       "      <th>2</th>\n",
       "      <td>partner booked stay Xenia through Superbreak a...</td>\n",
       "      <td>2</td>\n",
       "    </tr>\n",
       "    <tr>\n",
       "      <th>2</th>\n",
       "      <td>stayed this hotel during Jude storm friends we...</td>\n",
       "      <td>2</td>\n",
       "    </tr>\n",
       "    <tr>\n",
       "      <th>2</th>\n",
       "      <td>Stayed with daughter took advantage Sunday nig...</td>\n",
       "      <td>2</td>\n",
       "    </tr>\n",
       "    <tr>\n",
       "      <th>2</th>\n",
       "      <td>Beautiful hotel heart London facing Sloane Str...</td>\n",
       "      <td>2</td>\n",
       "    </tr>\n",
       "    <tr>\n",
       "      <th>2</th>\n",
       "      <td>love this hotel visit London least twice year ...</td>\n",
       "      <td>2</td>\n",
       "    </tr>\n",
       "    <tr>\n",
       "      <th>2</th>\n",
       "      <td>accueil Panos simplement vous explique tout vi...</td>\n",
       "      <td>2</td>\n",
       "    </tr>\n",
       "    <tr>\n",
       "      <th>2</th>\n",
       "      <td>Found hotel welcoming staff very friendly help...</td>\n",
       "      <td>2</td>\n",
       "    </tr>\n",
       "    <tr>\n",
       "      <th>2</th>\n",
       "      <td>stayed night must admit when arrived were expe...</td>\n",
       "      <td>2</td>\n",
       "    </tr>\n",
       "    <tr>\n",
       "      <th>2</th>\n",
       "      <td>stayed here august would definitely recommend ...</td>\n",
       "      <td>2</td>\n",
       "    </tr>\n",
       "    <tr>\n",
       "      <th>2</th>\n",
       "      <td>This hotel great position just opposite Albert...</td>\n",
       "      <td>2</td>\n",
       "    </tr>\n",
       "    <tr>\n",
       "      <th>2</th>\n",
       "      <td>Stayed Hotel Xenia work from Earls Court tube ...</td>\n",
       "      <td>2</td>\n",
       "    </tr>\n",
       "    <tr>\n",
       "      <th>2</th>\n",
       "      <td>work party around Paddington wanted somewhere ...</td>\n",
       "      <td>2</td>\n",
       "    </tr>\n",
       "    <tr>\n",
       "      <th>...</th>\n",
       "      <td>...</td>\n",
       "      <td>...</td>\n",
       "    </tr>\n",
       "    <tr>\n",
       "      <th>2</th>\n",
       "      <td>stayed night were attending party Savoy very c...</td>\n",
       "      <td>2</td>\n",
       "    </tr>\n",
       "    <tr>\n",
       "      <th>2</th>\n",
       "      <td>stayed here mothers birthday weekend break fro...</td>\n",
       "      <td>2</td>\n",
       "    </tr>\n",
       "    <tr>\n",
       "      <th>2</th>\n",
       "      <td>This first time visit London hotel staff impec...</td>\n",
       "      <td>2</td>\n",
       "    </tr>\n",
       "    <tr>\n",
       "      <th>2</th>\n",
       "      <td>Myself husband just back from stay this superb...</td>\n",
       "      <td>2</td>\n",
       "    </tr>\n",
       "    <tr>\n",
       "      <th>2</th>\n",
       "      <td>This second time stayed Mondrian rooms well ap...</td>\n",
       "      <td>2</td>\n",
       "    </tr>\n",
       "    <tr>\n",
       "      <th>2</th>\n",
       "      <td>arrival were greeted friendly staff this amazi...</td>\n",
       "      <td>2</td>\n",
       "    </tr>\n",
       "    <tr>\n",
       "      <th>2</th>\n",
       "      <td>would that Bulgari Hotel Knightsbridge London ...</td>\n",
       "      <td>2</td>\n",
       "    </tr>\n",
       "    <tr>\n",
       "      <th>2</th>\n",
       "      <td>Just returned from days away London must that ...</td>\n",
       "      <td>2</td>\n",
       "    </tr>\n",
       "    <tr>\n",
       "      <th>2</th>\n",
       "      <td>never expected anything sensational stay Savoy...</td>\n",
       "      <td>2</td>\n",
       "    </tr>\n",
       "    <tr>\n",
       "      <th>2</th>\n",
       "      <td>stayed overnight this hotel trip London really...</td>\n",
       "      <td>2</td>\n",
       "    </tr>\n",
       "    <tr>\n",
       "      <th>2</th>\n",
       "      <td>stayed here part trip London girlfriend birthd...</td>\n",
       "      <td>2</td>\n",
       "    </tr>\n",
       "    <tr>\n",
       "      <th>2</th>\n",
       "      <td>okay hotel good location room nice stay hotels...</td>\n",
       "      <td>2</td>\n",
       "    </tr>\n",
       "    <tr>\n",
       "      <th>2</th>\n",
       "      <td>special deal days through Secret Sales Very ce...</td>\n",
       "      <td>2</td>\n",
       "    </tr>\n",
       "    <tr>\n",
       "      <th>2</th>\n",
       "      <td>Mondrian hotel which modern cool trendy great ...</td>\n",
       "      <td>2</td>\n",
       "    </tr>\n",
       "    <tr>\n",
       "      <th>2</th>\n",
       "      <td>What pleasant surprise just advertised more sp...</td>\n",
       "      <td>2</td>\n",
       "    </tr>\n",
       "    <tr>\n",
       "      <th>2</th>\n",
       "      <td>booked this treat doing some christmas shoppin...</td>\n",
       "      <td>2</td>\n",
       "    </tr>\n",
       "    <tr>\n",
       "      <th>2</th>\n",
       "      <td>luxurious hotel which directy opposite conveni...</td>\n",
       "      <td>2</td>\n",
       "    </tr>\n",
       "    <tr>\n",
       "      <th>2</th>\n",
       "      <td>stayed Corinthia hotel during Christmas first ...</td>\n",
       "      <td>2</td>\n",
       "    </tr>\n",
       "    <tr>\n",
       "      <th>2</th>\n",
       "      <td>stayed Corinthia number nights July business t...</td>\n",
       "      <td>2</td>\n",
       "    </tr>\n",
       "    <tr>\n",
       "      <th>2</th>\n",
       "      <td>ideal base sightseeing This lovely hotel finan...</td>\n",
       "      <td>2</td>\n",
       "    </tr>\n",
       "    <tr>\n",
       "      <th>2</th>\n",
       "      <td>recently stayed here least fifth time have sta...</td>\n",
       "      <td>2</td>\n",
       "    </tr>\n",
       "    <tr>\n",
       "      <th>2</th>\n",
       "      <td>actually hired bigger rooms small party staff ...</td>\n",
       "      <td>2</td>\n",
       "    </tr>\n",
       "    <tr>\n",
       "      <th>2</th>\n",
       "      <td>hotel very trendy almost intimidatingly walked...</td>\n",
       "      <td>2</td>\n",
       "    </tr>\n",
       "    <tr>\n",
       "      <th>2</th>\n",
       "      <td>Fantastic location particularly wanting visit ...</td>\n",
       "      <td>2</td>\n",
       "    </tr>\n",
       "    <tr>\n",
       "      <th>2</th>\n",
       "      <td>wife daughter parents stayed Dorchester treat ...</td>\n",
       "      <td>2</td>\n",
       "    </tr>\n",
       "    <tr>\n",
       "      <th>2</th>\n",
       "      <td>Myself husband visited Corinthia birthday want...</td>\n",
       "      <td>2</td>\n",
       "    </tr>\n",
       "    <tr>\n",
       "      <th>2</th>\n",
       "      <td>service makes this hotel from second taxi when...</td>\n",
       "      <td>2</td>\n",
       "    </tr>\n",
       "    <tr>\n",
       "      <th>2</th>\n",
       "      <td>arrived evening didn great welcome have booked...</td>\n",
       "      <td>2</td>\n",
       "    </tr>\n",
       "    <tr>\n",
       "      <th>2</th>\n",
       "      <td>Corinthia will always favourite London Hotel r...</td>\n",
       "      <td>2</td>\n",
       "    </tr>\n",
       "    <tr>\n",
       "      <th>2</th>\n",
       "      <td>booked this hotel concert Royal Albert Hall lo...</td>\n",
       "      <td>2</td>\n",
       "    </tr>\n",
       "  </tbody>\n",
       "</table>\n",
       "<p>7556 rows × 2 columns</p>\n",
       "</div>"
      ],
      "text/plain": [
       "                                               Review  Cluster\n",
       "2   pleasure staying this hotel nights recently Th...        2\n",
       "2   Well strange London star hotels when comes alo...        2\n",
       "2   location next park close Harvey Harrods means ...        2\n",
       "2   booked night choosing this hotel close Barbica...        2\n",
       "2   Well what chose this venue propose girlfriend ...        2\n",
       "2   Mandarin London lives five star rating that de...        2\n",
       "2   Nice visit didn feel special Upgraded superior...        2\n",
       "2   partner found this hotel chance good reviews c...        2\n",
       "2   have just returned from very quick trip London...        2\n",
       "2   always little skeptical about what read glowin...        2\n",
       "2   Lovely furnishings amenities service However w...        2\n",
       "2   Just came back from marvelous stay Mandarin Or...        2\n",
       "2   Have stayed many times before keep coming back...        2\n",
       "2   Having tried Dorchester hotel Paris very satis...        2\n",
       "2   Very modern hotel garish feared Superb views f...        2\n",
       "2   Very nice hotel good location stayed Saturday ...        2\n",
       "2   husband booked South Bank Sunday package which...        2\n",
       "2   fabulous hotel fantastic location directly nex...        2\n",
       "2   partner booked stay Xenia through Superbreak a...        2\n",
       "2   stayed this hotel during Jude storm friends we...        2\n",
       "2   Stayed with daughter took advantage Sunday nig...        2\n",
       "2   Beautiful hotel heart London facing Sloane Str...        2\n",
       "2   love this hotel visit London least twice year ...        2\n",
       "2   accueil Panos simplement vous explique tout vi...        2\n",
       "2   Found hotel welcoming staff very friendly help...        2\n",
       "2   stayed night must admit when arrived were expe...        2\n",
       "2   stayed here august would definitely recommend ...        2\n",
       "2   This hotel great position just opposite Albert...        2\n",
       "2   Stayed Hotel Xenia work from Earls Court tube ...        2\n",
       "2   work party around Paddington wanted somewhere ...        2\n",
       "..                                                ...      ...\n",
       "2   stayed night were attending party Savoy very c...        2\n",
       "2   stayed here mothers birthday weekend break fro...        2\n",
       "2   This first time visit London hotel staff impec...        2\n",
       "2   Myself husband just back from stay this superb...        2\n",
       "2   This second time stayed Mondrian rooms well ap...        2\n",
       "2   arrival were greeted friendly staff this amazi...        2\n",
       "2   would that Bulgari Hotel Knightsbridge London ...        2\n",
       "2   Just returned from days away London must that ...        2\n",
       "2   never expected anything sensational stay Savoy...        2\n",
       "2   stayed overnight this hotel trip London really...        2\n",
       "2   stayed here part trip London girlfriend birthd...        2\n",
       "2   okay hotel good location room nice stay hotels...        2\n",
       "2   special deal days through Secret Sales Very ce...        2\n",
       "2   Mondrian hotel which modern cool trendy great ...        2\n",
       "2   What pleasant surprise just advertised more sp...        2\n",
       "2   booked this treat doing some christmas shoppin...        2\n",
       "2   luxurious hotel which directy opposite conveni...        2\n",
       "2   stayed Corinthia hotel during Christmas first ...        2\n",
       "2   stayed Corinthia number nights July business t...        2\n",
       "2   ideal base sightseeing This lovely hotel finan...        2\n",
       "2   recently stayed here least fifth time have sta...        2\n",
       "2   actually hired bigger rooms small party staff ...        2\n",
       "2   hotel very trendy almost intimidatingly walked...        2\n",
       "2   Fantastic location particularly wanting visit ...        2\n",
       "2   wife daughter parents stayed Dorchester treat ...        2\n",
       "2   Myself husband visited Corinthia birthday want...        2\n",
       "2   service makes this hotel from second taxi when...        2\n",
       "2   arrived evening didn great welcome have booked...        2\n",
       "2   Corinthia will always favourite London Hotel r...        2\n",
       "2   booked this hotel concert Royal Albert Hall lo...        2\n",
       "\n",
       "[7556 rows x 2 columns]"
      ]
     },
     "execution_count": 44,
     "metadata": {},
     "output_type": "execute_result"
    }
   ],
   "source": [
    "frame[frame['Cluster'] == 2]"
   ]
  },
  {
   "cell_type": "code",
   "execution_count": 45,
   "metadata": {},
   "outputs": [],
   "source": [
    "features = frame.iloc[:, 0].values\n",
    "labels = frame.iloc[:, 1].values"
   ]
  },
  {
   "cell_type": "code",
   "execution_count": 46,
   "metadata": {},
   "outputs": [],
   "source": [
    "Processed_features = []\n",
    "for sentence in range(0,len(features)):\n",
    "    # Remove all the special characters \n",
    "    processed_feature = re.sub(r'\\W',' ',str(features[sentence]))\n",
    "    \n",
    "    # Remove all single characters\n",
    "    precessed_feature = re.sub(r'\\s+[a-zA-Z]\\s+', ' ',  processed_feature)\n",
    "    \n",
    "    # Remove single characters from the start\n",
    "    processed_feature = re.sub(r'\\^[a-zA-Z]\\s+', ' ',  processed_feature)\n",
    "    \n",
    "    # Substituting multiple spaces with single space\n",
    "    processed_feature = re.sub(r'\\s+', ' ',  processed_feature, flags=re.I)\n",
    "    \n",
    "    # Removing prefixed 'b'\n",
    "    processed_feature = re.sub(r'^b\\s+', '', processed_feature)\n",
    "    \n",
    "    # Converting to Lowercase\n",
    "    processed_feature = processed_feature.lower()\n",
    "    \n",
    "    Processed_features.append(processed_feature)"
   ]
  },
  {
   "cell_type": "markdown",
   "metadata": {},
   "source": [
    "### Fit the Random Forest Classification Model . "
   ]
  },
  {
   "cell_type": "code",
   "execution_count": 47,
   "metadata": {},
   "outputs": [],
   "source": [
    "from nltk.corpus import stopwords\n",
    "from sklearn.feature_extraction.text import TfidfVectorizer\n",
    "\n",
    "vectorizer = TfidfVectorizer (max_features=2500, min_df=7, max_df=0.8, stop_words=stopwords.words('english'))\n",
    "Processed_features = vectorizer.fit_transform(Processed_features).toarray()"
   ]
  },
  {
   "cell_type": "markdown",
   "metadata": {},
   "source": [
    "#### Split the data into two parts Training set and test set."
   ]
  },
  {
   "cell_type": "code",
   "execution_count": 48,
   "metadata": {},
   "outputs": [],
   "source": [
    "from sklearn.model_selection import train_test_split\n",
    "\n",
    "X_train, X_test, y_train, y_test = train_test_split(Processed_features, labels, test_size=0.2, random_state=0)\n"
   ]
  },
  {
   "cell_type": "markdown",
   "metadata": {},
   "source": [
    "## Train the model with Random Forest Classifier with sentiment "
   ]
  },
  {
   "cell_type": "code",
   "execution_count": 49,
   "metadata": {},
   "outputs": [
    {
     "data": {
      "text/plain": [
       "RandomForestClassifier(bootstrap=True, class_weight=None, criterion='gini',\n",
       "            max_depth=None, max_features='auto', max_leaf_nodes=None,\n",
       "            min_impurity_decrease=0.0, min_impurity_split=None,\n",
       "            min_samples_leaf=1, min_samples_split=2,\n",
       "            min_weight_fraction_leaf=0.0, n_estimators=200, n_jobs=None,\n",
       "            oob_score=False, random_state=0, verbose=0, warm_start=False)"
      ]
     },
     "execution_count": 49,
     "metadata": {},
     "output_type": "execute_result"
    }
   ],
   "source": [
    "from sklearn.ensemble import RandomForestClassifier\n",
    "\n",
    "text_classifier = RandomForestClassifier(n_estimators=200, random_state=0)\n",
    "text_classifier.fit(X_train, y_train)\n"
   ]
  },
  {
   "cell_type": "markdown",
   "metadata": {},
   "source": [
    "#### Predicting the Test set results"
   ]
  },
  {
   "cell_type": "code",
   "execution_count": 50,
   "metadata": {},
   "outputs": [],
   "source": [
    "predictions = text_classifier.predict(X_test)"
   ]
  },
  {
   "cell_type": "markdown",
   "metadata": {},
   "source": [
    "#### Making the Confusion Matrix with Accuracy"
   ]
  },
  {
   "cell_type": "code",
   "execution_count": 51,
   "metadata": {},
   "outputs": [
    {
     "name": "stdout",
     "output_type": "stream",
     "text": [
      "[[  26    0  168]\n",
      " [   0 3614   69]\n",
      " [   0  422 1079]]\n",
      "accuracy score 0.8774637411677203\n"
     ]
    }
   ],
   "source": [
    "from sklearn.metrics import confusion_matrix, accuracy_score\n",
    "\n",
    "print(confusion_matrix(y_test,predictions))\n",
    "print('accuracy score', accuracy_score(y_test, predictions))"
   ]
  },
  {
   "cell_type": "markdown",
   "metadata": {},
   "source": [
    "## Sentiment Analysis with Random Forest Classifier."
   ]
  },
  {
   "cell_type": "markdown",
   "metadata": {},
   "source": [
    "Review Text contain many slang words and punctuation marks. We need to clean our review texts before they can be user for training the machine learning model. However, before cleaning the raview test, let's divide our dataset into feature and label sets.\n",
    "\n",
    "Our feature set will consist of raview text only. If we look at our dataset 4th column contain review text. Note that the index of the column will be 3 sence pandas columns follow zero-based indexing scheme where the first column is called 0th column. Our lable set will consist of the sentiment of the review text that we have to predict. The sentiment of the review is in the second column (index 1). To create a feature and a label set we can use the iloc method off the pandas data frame."
   ]
  },
  {
   "cell_type": "code",
   "execution_count": 52,
   "metadata": {},
   "outputs": [],
   "source": [
    "features = df.iloc[:, 3].values\n",
    "labels = df.iloc[:, 1].values"
   ]
  },
  {
   "cell_type": "code",
   "execution_count": 53,
   "metadata": {},
   "outputs": [],
   "source": [
    "features = df.iloc[:, 3].values"
   ]
  },
  {
   "cell_type": "code",
   "execution_count": 54,
   "metadata": {},
   "outputs": [],
   "source": [
    "Processed_features = []\n",
    "for sentence in range(0,len(features)):\n",
    "    # Remove all the special characters \n",
    "    processed_feature = re.sub(r'\\W',' ',str(features[sentence]))\n",
    "    \n",
    "    # Remove all single characters\n",
    "    precessed_feature = re.sub(r'\\s+[a-zA-Z]\\s+', ' ',  processed_feature)\n",
    "    \n",
    "    # Remove single characters from the start\n",
    "    processed_feature = re.sub(r'\\^[a-zA-Z]\\s+', ' ',  processed_feature)\n",
    "    \n",
    "    # Substituting multiple spaces with single space\n",
    "    processed_feature = re.sub(r'\\s+', ' ',  processed_feature, flags=re.I)\n",
    "    \n",
    "    # Removing prefixed 'b'\n",
    "    processed_feature = re.sub(r'^b\\s+', '', processed_feature)\n",
    "    \n",
    "    # Converting to Lowercase\n",
    "    processed_feature = processed_feature.lower()\n",
    "    \n",
    "    Processed_features.append(processed_feature)"
   ]
  },
  {
   "cell_type": "markdown",
   "metadata": {},
   "source": [
    "## TF-IDF"
   ]
  },
  {
   "cell_type": "markdown",
   "metadata": {},
   "source": [
    " In the bag of words approach, each word has the same weight. The idea behaind the TF-IDF approach is that the words that accure less in all the ducumnets and more in individual document contribute more towords classification. "
   ]
  },
  {
   "cell_type": "markdown",
   "metadata": {},
   "source": [
    "### TF-IDF is a combination of two terms. Term frequency can be calculated as:\n",
    "\n",
    "TF = (Frequency of a word in the document)/(Total words in the document)\n",
    "\n",
    " IDF = log((Total number of docs)/(Number of docs containing the word))"
   ]
  },
  {
   "cell_type": "markdown",
   "metadata": {},
   "source": [
    "### TF-IDF using the Scikit-Learn Library\n",
    "\n",
    "Luckily for us, Python's Scikit-Learn library contains the TfidVectorized class that can be used to convert text features into TF-IDF feature vectors. The following script performs this: "
   ]
  },
  {
   "cell_type": "code",
   "execution_count": 55,
   "metadata": {},
   "outputs": [],
   "source": [
    "from nltk.corpus import stopwords\n",
    "from sklearn.feature_extraction.text import TfidfVectorizer\n",
    "\n",
    "vectorizer = TfidfVectorizer (max_features=2500, min_df=7, max_df=0.8, stop_words=stopwords.words('english'))\n",
    "Processed_features = vectorizer.fit_transform(Processed_features).toarray()"
   ]
  },
  {
   "cell_type": "markdown",
   "metadata": {},
   "source": [
    "In the above code, we define that the max_features should be 2500, which means that it only uses the 2500 most frequently occuring words to create a bag of words feature vector. words that occur less frequently are not very useful for classification.\n",
    "\n",
    "Similarly, max_df specifies that only use those words that occure in maximum of 80% of the documents. Words that occur in all documents are too common and are not very useful for classification. Similarly, min_df is set to 7 which shows that include words that occur in at least 7 documents.\n"
   ]
  },
  {
   "cell_type": "markdown",
   "metadata": {},
   "source": [
    "## Dividing Data into Training and Test sets"
   ]
  },
  {
   "cell_type": "markdown",
   "metadata": {},
   "source": [
    "In the previous section, we converted the data into the numeric from. As the last step before we train our algorithms, we need to divide our data into training and test sets. The training set will be used to train the algorithm while the test set will be used to evaluate the performance of the machine learning model."
   ]
  },
  {
   "cell_type": "code",
   "execution_count": 56,
   "metadata": {},
   "outputs": [],
   "source": [
    "from sklearn.model_selection import train_test_split\n",
    "\n",
    "X_train, X_test, y_train, y_test = train_test_split(Processed_features, labels, test_size=0.2, random_state=0)\n"
   ]
  },
  {
   "cell_type": "markdown",
   "metadata": {},
   "source": [
    "## Train the Random Forest Classification model on the Training set"
   ]
  },
  {
   "cell_type": "code",
   "execution_count": 57,
   "metadata": {},
   "outputs": [
    {
     "data": {
      "text/plain": [
       "RandomForestClassifier(bootstrap=True, class_weight=None, criterion='gini',\n",
       "            max_depth=None, max_features='auto', max_leaf_nodes=None,\n",
       "            min_impurity_decrease=0.0, min_impurity_split=None,\n",
       "            min_samples_leaf=1, min_samples_split=2,\n",
       "            min_weight_fraction_leaf=0.0, n_estimators=200, n_jobs=None,\n",
       "            oob_score=False, random_state=0, verbose=0, warm_start=False)"
      ]
     },
     "execution_count": 57,
     "metadata": {},
     "output_type": "execute_result"
    }
   ],
   "source": [
    "from sklearn.ensemble import RandomForestClassifier\n",
    "\n",
    "text_classifier = RandomForestClassifier(n_estimators=200, random_state=0)\n",
    "text_classifier.fit(X_train, y_train)"
   ]
  },
  {
   "cell_type": "markdown",
   "metadata": {},
   "source": [
    "## Predicting the Test set results"
   ]
  },
  {
   "cell_type": "code",
   "execution_count": 58,
   "metadata": {},
   "outputs": [],
   "source": [
    "predictions = text_classifier.predict(X_test)"
   ]
  },
  {
   "cell_type": "markdown",
   "metadata": {},
   "source": [
    "## Making the Confusion Matrix with Accuracy"
   ]
  },
  {
   "cell_type": "code",
   "execution_count": 59,
   "metadata": {},
   "outputs": [
    {
     "name": "stdout",
     "output_type": "stream",
     "text": [
      "[[   9    0    3   19   98]\n",
      " [   1    0    4   26  102]\n",
      " [   0    0    2   88  232]\n",
      " [   0    0    1  194  990]\n",
      " [   0    0    0   77 3532]]\n",
      "accuracy score 0.6948679806619561\n"
     ]
    }
   ],
   "source": [
    "from sklearn.metrics import confusion_matrix, accuracy_score\n",
    "\n",
    "print(confusion_matrix(y_test,predictions))\n",
    "print('accuracy score', accuracy_score(y_test, predictions))"
   ]
  },
  {
   "cell_type": "markdown",
   "metadata": {},
   "source": [
    "## Sentiment Analysis with Binary Logistic Classification for Goods & Bad Reviews."
   ]
  },
  {
   "cell_type": "markdown",
   "metadata": {},
   "source": [
    "Now that we have a good handle on the data, we can try to make a simple model that can take the text of a review and predict from that what rating was given. To keep it simple for the model I'll divide reviews into good and bad, with \"good\" being a 5 star review and bad being anything below. "
   ]
  },
  {
   "cell_type": "code",
   "execution_count": 60,
   "metadata": {},
   "outputs": [
    {
     "name": "stdout",
     "output_type": "stream",
     "text": [
      "32.887054185726505 percent of reviews are bad (less than 5 star).\n"
     ]
    }
   ],
   "source": [
    "df['Complete_Review'] = df['Review_Title'] + ' ' + df['Review_Text']\n",
    "df.loc[df['Review_Rating'] > 4, 'Good_Review'] = 1\n",
    "df.loc[df['Review_Rating'] <= 4, 'Good_Review'] = 0\n",
    "print(sum(df['Good_Review'] == 0) / len(df['Good_Review']) * 100, 'percent of reviews are bad (less than 5 star).')"
   ]
  },
  {
   "cell_type": "markdown",
   "metadata": {},
   "source": [
    "Next to make a train and test set, with 80% of the data being the train set and 20% being the test set. The model will be trained on the training data and evaluated on the test data."
   ]
  },
  {
   "cell_type": "code",
   "execution_count": 61,
   "metadata": {},
   "outputs": [],
   "source": [
    "msk = np.random.rand(len(df)) < 0.8\n",
    "train = df[msk]\n",
    "test = df[~msk]"
   ]
  },
  {
   "cell_type": "markdown",
   "metadata": {},
   "source": [
    "Before feeding reviews into a model, they should be cleaned to remove punctuation, as that willl be useless from the computers point of view in trying to work out the sentiment of a text - for this case we're only interested in the words in a review. The code below (from https://towardsdatascience.com/sentiment-analysis-with-python-part-1-5ce197074184) gets rid of punctuation so a review is turned into words only."
   ]
  },
  {
   "cell_type": "code",
   "execution_count": 62,
   "metadata": {},
   "outputs": [],
   "source": [
    "REPLACE_NO_SPACE = re.compile(\"(\\.)|(\\;)|(\\:)|(\\!)|(\\')|(\\?)|(\\,)|(\\\")|(\\|)|(\\()|(\\))|(\\[)|(\\])\")\n",
    "REPLACE_WITH_SPACE = re.compile(\"(<br\\s*/><br\\s*/>)|(\\-)|(\\/)\")\n",
    "\n",
    "def preprocess_reviews(reviews):\n",
    "    reviews = [REPLACE_NO_SPACE.sub(\"\", line.lower()) for line in reviews]\n",
    "    reviews = [REPLACE_WITH_SPACE.sub(\" \", line) for line in reviews]\n",
    "    \n",
    "    return reviews\n",
    "\n",
    "reviews_train_clean = preprocess_reviews(train['Complete_Review'])\n",
    "reviews_test_clean = preprocess_reviews(test['Complete_Review'])"
   ]
  },
  {
   "cell_type": "markdown",
   "metadata": {},
   "source": [
    "The next step is *one hot encoding*, where we turn each review into a very large matrix of 0's and 1's. A 0 would represent a certain word isn't included, whereas a 1 means that word is included. A short review of a few words would have a matrix of almost entirely 0's (ie. the vast majority of unique words across all reviews aren't present in the review), with just a small number of 1's. This is necessary for the logistic regression algorithm used below."
   ]
  },
  {
   "cell_type": "code",
   "execution_count": 63,
   "metadata": {},
   "outputs": [],
   "source": [
    "cv = CountVectorizer(binary=True)\n",
    "cv.fit(reviews_train_clean)\n",
    "X_train = cv.transform(reviews_train_clean)\n",
    "X_test = cv.transform(reviews_test_clean)"
   ]
  },
  {
   "cell_type": "markdown",
   "metadata": {},
   "source": [
    "Now we can finally train a model on the train data with model.fit(). After that, model.predict() can be called on the test data to evaluate how good the model does. We know around 67% of reviews are 5 stars, so as a naive benchmark, we'd expect the model to predict the right rating based on the review text over 67% of the time."
   ]
  },
  {
   "cell_type": "markdown",
   "metadata": {},
   "source": [
    "## Train the model with Binary Logistic Classification model."
   ]
  },
  {
   "cell_type": "code",
   "execution_count": 64,
   "metadata": {
    "scrolled": true
   },
   "outputs": [
    {
     "name": "stderr",
     "output_type": "stream",
     "text": [
      "C:\\New folder\\lib\\site-packages\\sklearn\\linear_model\\logistic.py:432: FutureWarning: Default solver will be changed to 'lbfgs' in 0.22. Specify a solver to silence this warning.\n",
      "  FutureWarning)\n"
     ]
    },
    {
     "data": {
      "text/plain": [
       "LogisticRegression(C=1.0, class_weight=None, dual=False, fit_intercept=True,\n",
       "          intercept_scaling=1, max_iter=100, multi_class='warn',\n",
       "          n_jobs=None, penalty='l2', random_state=None, solver='warn',\n",
       "          tol=0.0001, verbose=0, warm_start=False)"
      ]
     },
     "execution_count": 64,
     "metadata": {},
     "output_type": "execute_result"
    }
   ],
   "source": [
    "target_train = train['Good_Review']\n",
    "target_test = test['Good_Review']\n",
    "\n",
    "from sklearn.linear_model import LogisticRegression\n",
    "\n",
    "model = LogisticRegression()\n",
    "model.fit(X_train, target_train)"
   ]
  },
  {
   "cell_type": "markdown",
   "metadata": {},
   "source": [
    "### Predicting the test set results."
   ]
  },
  {
   "cell_type": "code",
   "execution_count": 65,
   "metadata": {},
   "outputs": [],
   "source": [
    "predictions = model.predict(X_test)"
   ]
  },
  {
   "cell_type": "markdown",
   "metadata": {},
   "source": [
    "### Making the Confusion Matrix with Accuracy"
   ]
  },
  {
   "cell_type": "code",
   "execution_count": 66,
   "metadata": {},
   "outputs": [
    {
     "name": "stdout",
     "output_type": "stream",
     "text": [
      "[[1227  571]\n",
      " [ 455 3191]]\n",
      "accuracy score 0.8115356355620867\n"
     ]
    }
   ],
   "source": [
    "from sklearn.metrics import confusion_matrix, accuracy_score\n",
    "\n",
    "print(confusion_matrix(target_test,predictions))\n",
    "print('accuracy score', accuracy_score(target_test, predictions))"
   ]
  },
  {
   "cell_type": "markdown",
   "metadata": {},
   "source": [
    "With over 81% accuracy, this is a reasonable model in that it clearly beats the naive baseline that merely guesses the most likely rating (5 stars - good) for each review, though it could be improved as I haven't done any tweaking.\n",
    "\n",
    "Finally, it's interesting to see what words the model considers good and bad, "
   ]
  },
  {
   "cell_type": "code",
   "execution_count": 67,
   "metadata": {},
   "outputs": [
    {
     "name": "stdout",
     "output_type": "stream",
     "text": [
      "Good words:\n",
      "\n",
      "('glazed', 1.64947294902261)\n",
      "('lcd', 1.4132304520624548)\n",
      "('meets', 1.3551980995807569)\n",
      "('pancras', 1.3458214409823865)\n",
      "('disappoints', 1.3111416141045602)\n",
      "\n",
      "Bad words:\n",
      "\n",
      "('lacked', -1.819011515452316)\n",
      "('lacking', -1.7766100578243256)\n",
      "('backwards', -1.7367878885347694)\n",
      "('cris', -1.6830882411797827)\n",
      "('spite', -1.6366732707124838)\n"
     ]
    }
   ],
   "source": [
    "feature_to_coef = {\n",
    "    word: coef for word, coef in zip(\n",
    "        cv.get_feature_names(), model.coef_[0]\n",
    "    )\n",
    "}\n",
    "print('Good words:', end = \"\\n\\n\")\n",
    "for best_positive in sorted(\n",
    "    feature_to_coef.items(), \n",
    "    key=lambda x: x[1], \n",
    "    reverse=True)[:5]:\n",
    "    print (best_positive)\n",
    "print('')\n",
    "print('Bad words:', end = \"\\n\\n\")\n",
    "for best_negative in sorted(\n",
    "    feature_to_coef.items(), \n",
    "    key=lambda x: x[1])[:5]:\n",
    "    print (best_negative)"
   ]
  },
  {
   "cell_type": "markdown",
   "metadata": {},
   "source": [
    "# Thank You "
   ]
  },
  {
   "cell_type": "code",
   "execution_count": null,
   "metadata": {},
   "outputs": [],
   "source": []
  }
 ],
 "metadata": {
  "kernelspec": {
   "display_name": "Python 3",
   "language": "python",
   "name": "python3"
  },
  "language_info": {
   "codemirror_mode": {
    "name": "ipython",
    "version": 3
   },
   "file_extension": ".py",
   "mimetype": "text/x-python",
   "name": "python",
   "nbconvert_exporter": "python",
   "pygments_lexer": "ipython3",
   "version": "3.7.3"
  }
 },
 "nbformat": 4,
 "nbformat_minor": 2
}
